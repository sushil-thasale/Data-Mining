{
 "cells": [
  {
   "cell_type": "code",
   "execution_count": 1,
   "metadata": {
    "collapsed": false
   },
   "outputs": [],
   "source": [
    "import os\n",
    "os.environ['PYSPARK_PYTHON'] = '/usr/bin/python3'\n",
    "from pyspark import SparkContext\n",
    "from pyspark.mllib.fpm import FPGrowth\n",
    "import math\n",
    "\n",
    "SparkContext.setSystemProperty('spark.executor.memory', '5g')\n",
    "\n",
    "authors = sc.textFile(\"publications.txt\")\\\n",
    "            .filter(lambda line : line.startswith(\"#@\"))\\\n",
    "            .filter(lambda line : len(line.strip())>2)\\\n",
    "            .map(lambda line : list(set(line[2:].strip().split(\",\"))))\\\n",
    "            .persist()"
   ]
  },
  {
   "cell_type": "code",
   "execution_count": 2,
   "metadata": {
    "collapsed": false
   },
   "outputs": [],
   "source": [
    "def getFrequentItems(authors, support):\n",
    "    model = FPGrowth.train(authors, minSupport = support, numPartitions = 1)\n",
    "    result = model.freqItemsets().collect()\n",
    "    return result"
   ]
  },
  {
   "cell_type": "code",
   "execution_count": 3,
   "metadata": {
    "collapsed": false
   },
   "outputs": [
    {
     "name": "stdout",
     "output_type": "stream",
     "text": [
      "Number of frequent itemsets for min support of 1e-4 is  665\n"
     ]
    }
   ],
   "source": [
    "# support threshold = 1e-4 \n",
    "result = getFrequentItems(authors, 0.0001)\n",
    "print(\"Number of frequent itemsets for min support of 1e-4 is \", len(result))"
   ]
  },
  {
   "cell_type": "code",
   "execution_count": 4,
   "metadata": {
    "collapsed": false
   },
   "outputs": [
    {
     "name": "stdout",
     "output_type": "stream",
     "text": [
      "Number of frequent itemsets for min support of 1e-5 is  58955\n"
     ]
    }
   ],
   "source": [
    "# support threshold = 1e-5\n",
    "result = getFrequentItems(authors, 0.00001)\n",
    "print(\"Number of frequent itemsets for min support of 1e-5 is \", len(result))"
   ]
  },
  {
   "cell_type": "code",
   "execution_count": 5,
   "metadata": {
    "collapsed": false
   },
   "outputs": [
    {
     "name": "stdout",
     "output_type": "stream",
     "text": [
      "Number of frequent itemsets for min support of 0.5e-5 is  168269\n"
     ]
    }
   ],
   "source": [
    "# support threshold = 0.5e-5\n",
    "result = getFrequentItems(authors, 0.000005)\n",
    "print(\"Number of frequent itemsets for min support of 0.5e-5 is \", len(result))"
   ]
  },
  {
   "cell_type": "code",
   "execution_count": null,
   "metadata": {
    "collapsed": true
   },
   "outputs": [],
   "source": [
    "# support threshold = 1e-6\n",
    "result = getFrequentItems(authors, 0.000001)\n",
    "print(\"Number of frequent itemsets for min support of 1e-6 is \", len(result))"
   ]
  },
  {
   "cell_type": "markdown",
   "metadata": {},
   "source": [
    "<b>As, we successively decrease the support threshold from 1e-4 to 1e-6, the size of FP-Tree increases rapidly and the number of frequent itemsets computed by FP-Growth algorithm grows almost exponentially.\n",
    "<br>\n",
    "\n",
    "Threshold  #itemsets <br>\n",
    "1e-4    =>  665<br>\n",
    "1e-5    =>  58955<br>\n",
    "0.5e-5  =>  168269<br>\n",
    "1e-6    =>  ??<br>\n",
    "<br>\n",
    "\n",
    "When the threshold is dropped to as low as 1e-6, the FP-Tree occupies the entire heap memory, and throws memory out of bounds Exception.<b>"
   ]
  },
  {
   "cell_type": "code",
   "execution_count": 7,
   "metadata": {
    "collapsed": false
   },
   "outputs": [],
   "source": [
    "import itertools\n",
    "import operator\n",
    "\n",
    "# prints a list of top 5 co-authors for a given author\n",
    "def getTopCoAuthors(result, name):\n",
    "    coAuthors = {}\n",
    "    for fi in result:\n",
    "        if name in fi.items:\n",
    "            for coAuth in fi.items:\n",
    "                if coAuth!=name:\n",
    "                    coAuthors[coAuth] = fi.freq if coAuthors.get(coAuth) is None else coAuthors.get(coAuth)+fi.freq\n",
    "                    \n",
    "    sortedAuths = sorted(sorted(coAuthors.items(), key=operator.itemgetter(0)), key=operator.itemgetter(1), reverse=True)\n",
    "    top5 = itertools.islice(sortedAuths, 5)\n",
    "    for item in list(top5): \n",
    "        print(item[0])"
   ]
  },
  {
   "cell_type": "code",
   "execution_count": 8,
   "metadata": {
    "collapsed": false
   },
   "outputs": [
    {
     "name": "stdout",
     "output_type": "stream",
     "text": [
      "Ramakrishnan Srikant\n",
      "Jerry Kiernan\n",
      "H. V. Jagadish\n",
      "Michael J. Carey\n",
      "Roberto J. Bayardo Jr.\n"
     ]
    }
   ],
   "source": [
    "# Top-5 co-authors for Rakesh Agrawal\n",
    "name = \"Rakesh Agrawal\"\n",
    "getTopCoAuthors(result, name)"
   ]
  },
  {
   "cell_type": "code",
   "execution_count": 9,
   "metadata": {
    "collapsed": false
   },
   "outputs": [
    {
     "name": "stdout",
     "output_type": "stream",
     "text": [
      "Xifeng Yan\n",
      "Philip S. Yu\n",
      "Deng Cai\n",
      "Xiaofei He\n",
      "Hong Cheng\n"
     ]
    }
   ],
   "source": [
    "# Top-5 co-authors for Jiawei Han\n",
    "name = \"Jiawei Han\"\n",
    "getTopCoAuthors(result, name)"
   ]
  },
  {
   "cell_type": "code",
   "execution_count": 10,
   "metadata": {
    "collapsed": false
   },
   "outputs": [
    {
     "name": "stdout",
     "output_type": "stream",
     "text": [
      "David L. Wild\n",
      "Katherine A. Heller\n",
      "Michael I. Jordan\n"
     ]
    }
   ],
   "source": [
    "# Top-5 co-authors for Zoubin Ghahramani\n",
    "name = \"Zoubin Ghahramani\"\n",
    "getTopCoAuthors(result, name)"
   ]
  },
  {
   "cell_type": "code",
   "execution_count": 11,
   "metadata": {
    "collapsed": false
   },
   "outputs": [
    {
     "name": "stdout",
     "output_type": "stream",
     "text": [
      "Agma J. M. Traina\n",
      "Caetano Traina Jr.\n",
      "Hanghang Tong\n",
      "Spiros Papadimitriou\n",
      "Jimeng Sun\n"
     ]
    }
   ],
   "source": [
    "# Top-5 co-authors for Christos Faloutsos\n",
    "name = \"Christos Faloutsos\"\n",
    "getTopCoAuthors(result, name)"
   ]
  }
 ],
 "metadata": {
  "kernelspec": {
   "display_name": "Python 3",
   "language": "python",
   "name": "python3"
  },
  "language_info": {
   "codemirror_mode": {
    "name": "ipython",
    "version": 3
   },
   "file_extension": ".py",
   "mimetype": "text/x-python",
   "name": "python",
   "nbconvert_exporter": "python",
   "pygments_lexer": "ipython3",
   "version": "3.5.2"
  }
 },
 "nbformat": 4,
 "nbformat_minor": 2
}
