{
 "cells": [
  {
   "cell_type": "code",
   "execution_count": 16,
   "metadata": {
    "collapsed": false
   },
   "outputs": [],
   "source": [
    "import matplotlib.pyplot as plt\n",
    "import numpy as np\n",
    "import math\n",
    "from math import log"
   ]
  },
  {
   "cell_type": "code",
   "execution_count": 17,
   "metadata": {
    "collapsed": true
   },
   "outputs": [],
   "source": [
    "filePath = \"publications.txt\"\n",
    "file = open(filePath,'r')"
   ]
  },
  {
   "cell_type": "code",
   "execution_count": 18,
   "metadata": {
    "collapsed": true
   },
   "outputs": [],
   "source": [
    "distinctAuthors=[]\n",
    "distinctVenues=[]\n",
    "distinctPublications=[]\n",
    "indexes=[] #indexes are unique and !=\"\"\n",
    "minYear = 3000\n",
    "maxYear = -1\n",
    "venuePublications = {} #{venue, #publications}"
   ]
  },
  {
   "cell_type": "code",
   "execution_count": 19,
   "metadata": {
    "collapsed": true
   },
   "outputs": [],
   "source": [
    "for line in file:    \n",
    "            \n",
    "    # capture publication name        \n",
    "    if line.startswith(\"#*\"):\n",
    "        publication = line[2:].strip()\n",
    "        if publication != \"\":\n",
    "            distinctPublications.append(publication)\n",
    "            \n",
    "    # capture list of authors        \n",
    "    if line.startswith(\"#@\"):\n",
    "        authors = line[2:].strip().split(\",\")\n",
    "        for author in authors:\n",
    "            author = author.strip()\n",
    "            if author != \"\":\n",
    "                distinctAuthors.append(author)\n",
    "    \n",
    "    # capture venues\n",
    "    if line.startswith(\"#c\"):\n",
    "        venue = line[2:].strip()\n",
    "        if venue != \"\":\n",
    "            distinctVenues.append(venue)\n",
    "            \n",
    "    # capture index\n",
    "    if line.startswith(\"#index\"):\n",
    "        index = line[6:].strip()\n",
    "        indexes.append(index)\n",
    "        # compute no. of publications for each venue \n",
    "        if venue != \"\":\n",
    "            venuePublications[venue] = 1 if venuePublications.get(venue) is None else venuePublications.get(venue)+1\n",
    "        \n",
    "    if line.startswith(\"#t\"):\n",
    "        year = line[2:].strip()\n",
    "        if year != \"\":\n",
    "            if int(year) < minYear:\n",
    "                minYear = int(year)\n",
    "            if int(year) > maxYear:\n",
    "                maxYear = int(year)   \n",
    "   \n",
    "file.close()"
   ]
  },
  {
   "cell_type": "code",
   "execution_count": 20,
   "metadata": {
    "collapsed": true
   },
   "outputs": [],
   "source": [
    "# converts to linear array (used for computing statistics)\n",
    "def getWeightedArray(xvalues, weights):\n",
    "     zippedArray = zip(xvalues, weights)\n",
    "     weightedArray = []\n",
    "     for item in zippedArray:\n",
    "         for frequency in range(item[1]):\n",
    "             weightedArray.append(item[0])\n",
    "     return weightedArray"
   ]
  },
  {
   "cell_type": "code",
   "execution_count": 21,
   "metadata": {
    "collapsed": false
   },
   "outputs": [
    {
     "name": "stdout",
     "output_type": "stream",
     "text": [
      "For publications.txt :\n",
      "No. of distinct authors:  1232494\n",
      "No. of distinct Venues:  8707\n",
      "No. of distinct Publications:  2146341\n",
      "No. of distinct Publication names:  2106900\n",
      "Minium year :  -1\n",
      "Maximum year :  2013\n"
     ]
    }
   ],
   "source": [
    "print(\"For publications.txt :\")\n",
    "print(\"No. of distinct authors: \", len(set(distinctAuthors)))\n",
    "print(\"No. of distinct Venues: \", len(set(distinctVenues)))\n",
    "print(\"No. of distinct Publications: \", len(indexes))\n",
    "print(\"No. of distinct Publication names: \", len(set(distinctPublications)))\n",
    "print(\"Minium year : \", minYear)\n",
    "print(\"Maximum year : \", maxYear)"
   ]
  },
  {
   "cell_type": "markdown",
   "metadata": {},
   "source": [
    "For AP_Train.txt :<br>\n",
    "No. of distinct authors:  1478733 <br>\n",
    "No. of distinct Venues:  255685 <br>\n",
    "No. of distinct Publications:  1976815 <br>\n",
    "No. of distinct Publication names:  1929486 <br>"
   ]
  },
  {
   "cell_type": "markdown",
   "metadata": {},
   "source": [
    "<b>The Aminer dataset given in previous assignmnet was upto 2012, but publications.txt contain some articles published after 2012. Example: </b>\n",
    "#*Detecting Apposition for Text Simplification in Basque.\n",
    "#@Itziar Gonzalez-Dios,María Jesús Aranzabe,Arantza Díaz de Ilarraza Sánchez,Ander Soraluze\n",
    "#t2013\n",
    "#cCICLing (2)\n",
    "#index3677655"
   ]
  },
  {
   "cell_type": "markdown",
   "metadata": {},
   "source": [
    "<b>Some publications have inappropriate value for years in publications.txt.</b><br>\n",
    "<b>Example-1:</b>\n",
    "#*Proceedings of the Tenth ACM International Workshop on Data Engineering for Wireless and Mobile Access, MobiDE 2011, Athens, Greece, June 12, 2011\n",
    "#@George Kollios,Yufei Tao\n",
    "#t1012\n",
    "#cMobiDE\n",
    "#index3494901\n",
    "#% \n",
    "#!<br>\n",
    "\n",
    "<b>Example-2:</b>\n",
    "#*Cloud Computing, Second International Conference, CloudCom 2010, November 30 - December 3, 2010, Indianapolis, Indiana, USA, Proceedings\n",
    "#@\n",
    "#t-1\n",
    "#cCloudCom\n",
    "#index2957943\n",
    "#% \n",
    "#!<br>\n",
    "This is not the case with AP_train.txt."
   ]
  },
  {
   "cell_type": "markdown",
   "metadata": {},
   "source": [
    "<b>The number of distinct venues in \"publication.txt\" is very less when compared to the number of distinct authors and publications. Lets perform some analysis on \"publications per venue\"</b>"
   ]
  },
  {
   "cell_type": "code",
   "execution_count": 22,
   "metadata": {
    "collapsed": true
   },
   "outputs": [],
   "source": [
    "publicationsPerVenue = {}\n",
    "maxPubVenue = \"\"\n",
    "maxCount = 0\n",
    "\n",
    "# create a list of publications per venue to plot histogram\n",
    "for venue in venuePublications.keys():\n",
    "    count = venuePublications.get(venue)\n",
    "    if count > maxCount:\n",
    "        maxCount = count;\n",
    "        maxPubVenue = venue\n",
    "        \n",
    "    if publicationsPerVenue.get(count) is None:\n",
    "        publicationsPerVenue[count] = 1\n",
    "    else:\n",
    "        publicationsPerVenue[count] = publicationsPerVenue.get(count)+1"
   ]
  },
  {
   "cell_type": "code",
   "execution_count": 23,
   "metadata": {
    "collapsed": false
   },
   "outputs": [
    {
     "data": {
      "image/png": "[encoded data removed]",
      "text/plain": [
       "<matplotlib.figure.Figure at 0x7fb7379d4898>"
      ]
     },
     "metadata": {},
     "output_type": "display_data"
    }
   ],
   "source": [
    "yvalues = np.array(list(publicationsPerVenue.values()))\n",
    "xvalues = np.array(list(publicationsPerVenue.keys()))\n",
    "\n",
    "logValues=[log(value,10)for value in yvalues]\n",
    "xaxis=np.arange(len(xvalues))\n",
    "plt.bar(xaxis,logValues,1,color=\"b\")\n",
    "plt.ylabel('No. of Venues')\n",
    "plt.xlabel('No. of Publications')\n",
    "plt.title('Publications per venue') \n",
    "plt.show()"
   ]
  },
  {
   "cell_type": "code",
   "execution_count": 24,
   "metadata": {
    "collapsed": false
   },
   "outputs": [
    {
     "name": "stdout",
     "output_type": "stream",
     "text": [
      "For publications.txt : \n",
      "The mean of publications per venue : 246.507522683\n",
      "The standard deviation of publications per venue : 840.647726736\n",
      "The variance of publications per venue : 706688.600466\n",
      "First Quartile (Q1) / 25th Percentile :  15.0\n",
      "Second Quartile (Q2) / 50th Percentile / Median :  47.0\n",
      "Third Quartile (Q3) / 75th Percentile :  193.0\n"
     ]
    }
   ],
   "source": [
    "# calculate the required statistics\n",
    "weightedArray = getWeightedArray(xvalues, yvalues)\n",
    "\n",
    "mean = np.mean(weightedArray)\n",
    "std = np.std(weightedArray)\n",
    "quartile1 = np.percentile(weightedArray, 25)\n",
    "quartile2 = np.percentile(weightedArray, 50)\n",
    "quartile3 = np.percentile(weightedArray, 75)\n",
    "\n",
    "print(\"For publications.txt : \")\n",
    "print(\"The mean of publications per venue :\", mean)\n",
    "print(\"The standard deviation of publications per venue :\", std)\n",
    "print(\"The variance of publications per venue :\", std*std)\n",
    "print(\"First Quartile (Q1) / 25th Percentile : \", quartile1)\n",
    "print(\"Second Quartile (Q2) / 50th Percentile / Median : \", quartile2)\n",
    "print(\"Third Quartile (Q3) / 75th Percentile : \", quartile3)"
   ]
  },
  {
   "cell_type": "markdown",
   "metadata": {},
   "source": [
    "For AP_Train.txt : <br>\n",
    "The mean of publications per venue : 7.73096583687<br>\n",
    "The standard deviation of publications per venue : 83.3809075408<br>\n",
    "The variance of publications per venue : 6952.37574233<br>\n",
    "First Quartile (Q1) / 25th Percentile :  1.0<br>\n",
    "Second Quartile (Q2) / 50th Percentile / Median :  1.0<br>\n",
    "Third Quartile (Q3) / 75th Percentile :  1.0<br>"
   ]
  },
  {
   "cell_type": "markdown",
   "metadata": {},
   "source": [
    "* The 3rd Quantile for AP_Train, Q3 = 1.0. i.e 75% of the data points lie between 0.0 and 1.0. This says that the disrtibution is very highly saturated towards the left. Whereas, for \"publications.txt\", Q3 = 193.0. Also, Q1 = 15 and median = 47. This says that this data is skewed on the right and is uniformly distributed, as compared to AP_Train.\n",
    "\n",
    "\n",
    "* The standard deviation for AP_Train is 8.87. Whereas, the same for \"publication.txt\" is 840.64. This tells that large number of data points in AP_Train are present near the mean. While, the publication data is very highly scattered."
   ]
  }
 ],
 "metadata": {
  "kernelspec": {
   "display_name": "Python 3",
   "language": "python",
   "name": "python3"
  },
  "language_info": {
   "codemirror_mode": {
    "name": "ipython",
    "version": 3
   },
   "file_extension": ".py",
   "mimetype": "text/x-python",
   "name": "python",
   "nbconvert_exporter": "python",
   "pygments_lexer": "ipython3",
   "version": "3.5.2"
  }
 },
 "nbformat": 4,
 "nbformat_minor": 2
}
