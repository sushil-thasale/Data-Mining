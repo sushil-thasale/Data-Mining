{
 "cells": [
  {
   "cell_type": "code",
   "execution_count": 129,
   "metadata": {
    "collapsed": true
   },
   "outputs": [],
   "source": [
    "import os\n",
    "import pandas as pd\n",
    "import numpy as np\n",
    "%matplotlib inline\n",
    "import matplotlib.pyplot as plt\n",
    "from mpl_toolkits.mplot3d import Axes3D\n",
    "from pyspark import SparkContext\n",
    "\n",
    "os.environ['PYSPARK_PYTHON'] = '/usr/bin/python3'\n",
    "\n",
    "SparkContext.setSystemProperty('spark.executor.memory', '4g')"
   ]
  },
  {
   "cell_type": "code",
   "execution_count": 4,
   "metadata": {
    "collapsed": false
   },
   "outputs": [],
   "source": [
    "inputFile = \"uber-raw-data-apr14.csv\"\n",
    "\n",
    "uberRDD = sc.textFile(inputFile).filter(lambda line: \"Date\" not in line)"
   ]
  },
  {
   "cell_type": "code",
   "execution_count": 134,
   "metadata": {
    "collapsed": false
   },
   "outputs": [],
   "source": [
    "# cleaning and pre-processing Uber Data\n",
    "# converting to base, long, lat, hour(0-23), day, month, year\n",
    "\n",
    "def formatData(line):\n",
    "    lines = line.strip().split(\",\")\n",
    "    dateTime = lines[0].strip('\"').split()\n",
    "    date = dateTime[0]\n",
    "    time = dateTime[1]\n",
    "    month = date.strip().split(\"/\")[0]\n",
    "    day = date.strip().split(\"/\")[1]\n",
    "    year = date.strip().split(\"/\")[2]    \n",
    "    hour = time.strip().split(\":\")[0]\n",
    "    long = lines[1]\n",
    "    lat = lines[2]\n",
    "    base = lines[3].strip('\"')\n",
    "    tup = (float(long), float(lat), base, int(hour), int(day), int(month), int(year))\n",
    "    return tup"
   ]
  },
  {
   "cell_type": "code",
   "execution_count": 135,
   "metadata": {
    "collapsed": false
   },
   "outputs": [
    {
     "name": "stdout",
     "output_type": "stream",
     "text": [
      "<class 'pandas.core.frame.DataFrame'>\n",
      "RangeIndex: 564516 entries, 0 to 564515\n",
      "Data columns (total 7 columns):\n",
      "longitude    564516 non-null float64\n",
      "latitude     564516 non-null float64\n",
      "base         564516 non-null object\n",
      "hour         564516 non-null int64\n",
      "day          564516 non-null int64\n",
      "month        564516 non-null int64\n",
      "year         564516 non-null int64\n",
      "dtypes: float64(2), int64(4), object(1)\n",
      "memory usage: 30.1+ MB\n"
     ]
    },
    {
     "data": {
      "text/html": [
       "<div>\n",
       "<table border=\"1\" class=\"dataframe\">\n",
       "  <thead>\n",
       "    <tr style=\"text-align: right;\">\n",
       "      <th></th>\n",
       "      <th>longitude</th>\n",
       "      <th>latitude</th>\n",
       "      <th>base</th>\n",
       "      <th>hour</th>\n",
       "      <th>day</th>\n",
       "      <th>month</th>\n",
       "      <th>year</th>\n",
       "    </tr>\n",
       "  </thead>\n",
       "  <tbody>\n",
       "    <tr>\n",
       "      <th>0</th>\n",
       "      <td>40.7690</td>\n",
       "      <td>-73.9549</td>\n",
       "      <td>B02512</td>\n",
       "      <td>0</td>\n",
       "      <td>1</td>\n",
       "      <td>4</td>\n",
       "      <td>2014</td>\n",
       "    </tr>\n",
       "    <tr>\n",
       "      <th>1</th>\n",
       "      <td>40.7267</td>\n",
       "      <td>-74.0345</td>\n",
       "      <td>B02512</td>\n",
       "      <td>0</td>\n",
       "      <td>1</td>\n",
       "      <td>4</td>\n",
       "      <td>2014</td>\n",
       "    </tr>\n",
       "    <tr>\n",
       "      <th>2</th>\n",
       "      <td>40.7316</td>\n",
       "      <td>-73.9873</td>\n",
       "      <td>B02512</td>\n",
       "      <td>0</td>\n",
       "      <td>1</td>\n",
       "      <td>4</td>\n",
       "      <td>2014</td>\n",
       "    </tr>\n",
       "    <tr>\n",
       "      <th>3</th>\n",
       "      <td>40.7588</td>\n",
       "      <td>-73.9776</td>\n",
       "      <td>B02512</td>\n",
       "      <td>0</td>\n",
       "      <td>1</td>\n",
       "      <td>4</td>\n",
       "      <td>2014</td>\n",
       "    </tr>\n",
       "    <tr>\n",
       "      <th>4</th>\n",
       "      <td>40.7594</td>\n",
       "      <td>-73.9722</td>\n",
       "      <td>B02512</td>\n",
       "      <td>0</td>\n",
       "      <td>1</td>\n",
       "      <td>4</td>\n",
       "      <td>2014</td>\n",
       "    </tr>\n",
       "  </tbody>\n",
       "</table>\n",
       "</div>"
      ],
      "text/plain": [
       "   longitude  latitude    base  hour  day  month  year\n",
       "0    40.7690  -73.9549  B02512     0    1      4  2014\n",
       "1    40.7267  -74.0345  B02512     0    1      4  2014\n",
       "2    40.7316  -73.9873  B02512     0    1      4  2014\n",
       "3    40.7588  -73.9776  B02512     0    1      4  2014\n",
       "4    40.7594  -73.9722  B02512     0    1      4  2014"
      ]
     },
     "execution_count": 135,
     "metadata": {},
     "output_type": "execute_result"
    }
   ],
   "source": [
    "uberPD = uberRDD.map(lambda line: formatData(line))\\\n",
    "                         .toDF(['longitude', 'latitude', 'base', 'hour', 'day', 'month', 'year'])\\\n",
    "                         .toPandas()\n",
    "uberPD.info()\n",
    "uberPD.head()"
   ]
  },
  {
   "cell_type": "code",
   "execution_count": 6,
   "metadata": {
    "collapsed": false
   },
   "outputs": [],
   "source": [
    "# cleaning and pre-processing Weather Data\n",
    "\n",
    "def formatWeatherData(line):\n",
    "    lines = line.strip().split(\",\")\n",
    "    if(len(lines) == 31):\n",
    "        date = lines[2]\n",
    "        month = date[4:6].lstrip('0')\n",
    "        day = date[6:].lstrip('0')\n",
    "        year = date[0:4].lstrip('0')\n",
    "        PRCP = lines[3]\n",
    "        SNWD = lines[4]\n",
    "        SNOW = lines[5]\n",
    "        print(lines[6])\n",
    "        print(lines[7])\n",
    "        TMAX = int(lines[6]) if not lines[6].strip().isspace() else -9999\n",
    "        TMIN = int(lines[7]) if not lines[6].strip().isspace() else -9999\n",
    "        AVGTEMP = float((TMIN + TMAX)/2)\n",
    "        weatherTuple = (int(day), int(month), int(year), PRCP, SNWD, SNOW, TMAX, TMIN, AVGTEMP)\n",
    "        return weatherTuple"
   ]
  },
  {
   "cell_type": "code",
   "execution_count": 136,
   "metadata": {
    "collapsed": false
   },
   "outputs": [
    {
     "name": "stdout",
     "output_type": "stream",
     "text": [
      "<class 'pandas.core.frame.DataFrame'>\n",
      "RangeIndex: 30 entries, 0 to 29\n",
      "Data columns (total 9 columns):\n",
      "day        30 non-null int64\n",
      "month      30 non-null int64\n",
      "year       30 non-null int64\n",
      "PRCP       30 non-null object\n",
      "SNWD       30 non-null object\n",
      "SNOW       30 non-null object\n",
      "TMAX       30 non-null int64\n",
      "TMIN       30 non-null int64\n",
      "AVGTEMP    30 non-null float64\n",
      "dtypes: float64(1), int64(5), object(3)\n",
      "memory usage: 2.2+ KB\n"
     ]
    },
    {
     "data": {
      "text/html": [
       "<div>\n",
       "<table border=\"1\" class=\"dataframe\">\n",
       "  <thead>\n",
       "    <tr style=\"text-align: right;\">\n",
       "      <th></th>\n",
       "      <th>day</th>\n",
       "      <th>month</th>\n",
       "      <th>year</th>\n",
       "      <th>PRCP</th>\n",
       "      <th>SNWD</th>\n",
       "      <th>SNOW</th>\n",
       "      <th>TMAX</th>\n",
       "      <th>TMIN</th>\n",
       "      <th>AVGTEMP</th>\n",
       "    </tr>\n",
       "  </thead>\n",
       "  <tbody>\n",
       "    <tr>\n",
       "      <th>0</th>\n",
       "      <td>1</td>\n",
       "      <td>4</td>\n",
       "      <td>2014</td>\n",
       "      <td>0</td>\n",
       "      <td>0</td>\n",
       "      <td>0</td>\n",
       "      <td>156</td>\n",
       "      <td>39</td>\n",
       "      <td>97.5</td>\n",
       "    </tr>\n",
       "    <tr>\n",
       "      <th>1</th>\n",
       "      <td>2</td>\n",
       "      <td>4</td>\n",
       "      <td>2014</td>\n",
       "      <td>0</td>\n",
       "      <td>0</td>\n",
       "      <td>0</td>\n",
       "      <td>122</td>\n",
       "      <td>56</td>\n",
       "      <td>89.0</td>\n",
       "    </tr>\n",
       "    <tr>\n",
       "      <th>2</th>\n",
       "      <td>3</td>\n",
       "      <td>4</td>\n",
       "      <td>2014</td>\n",
       "      <td>18</td>\n",
       "      <td>0</td>\n",
       "      <td>0</td>\n",
       "      <td>194</td>\n",
       "      <td>78</td>\n",
       "      <td>136.0</td>\n",
       "    </tr>\n",
       "    <tr>\n",
       "      <th>3</th>\n",
       "      <td>4</td>\n",
       "      <td>4</td>\n",
       "      <td>2014</td>\n",
       "      <td>53</td>\n",
       "      <td>0</td>\n",
       "      <td>0</td>\n",
       "      <td>83</td>\n",
       "      <td>44</td>\n",
       "      <td>63.5</td>\n",
       "    </tr>\n",
       "    <tr>\n",
       "      <th>4</th>\n",
       "      <td>5</td>\n",
       "      <td>4</td>\n",
       "      <td>2014</td>\n",
       "      <td>0</td>\n",
       "      <td>0</td>\n",
       "      <td>0</td>\n",
       "      <td>122</td>\n",
       "      <td>44</td>\n",
       "      <td>83.0</td>\n",
       "    </tr>\n",
       "  </tbody>\n",
       "</table>\n",
       "</div>"
      ],
      "text/plain": [
       "   day  month  year PRCP SNWD SNOW  TMAX  TMIN  AVGTEMP\n",
       "0    1      4  2014    0    0    0   156    39     97.5\n",
       "1    2      4  2014    0    0    0   122    56     89.0\n",
       "2    3      4  2014   18    0    0   194    78    136.0\n",
       "3    4      4  2014   53    0    0    83    44     63.5\n",
       "4    5      4  2014    0    0    0   122    44     83.0"
      ]
     },
     "execution_count": 136,
     "metadata": {},
     "output_type": "execute_result"
    }
   ],
   "source": [
    "weatherPD = sc.textFile(\"weatherNYC\")\\\n",
    "                .filter(lambda line: \"STATION\" not in line)\\\n",
    "                .map(lambda line: formatWeatherData(line))\\\n",
    "                .toDF(['day', 'month', 'year', 'PRCP', 'SNWD', 'SNOW', 'TMAX', 'TMIN', 'AVGTEMP'])\\\n",
    "                .toPandas()\n",
    "weatherPD.info()\n",
    "weatherPD.head()"
   ]
  },
  {
   "cell_type": "code",
   "execution_count": 137,
   "metadata": {
    "collapsed": false
   },
   "outputs": [
    {
     "name": "stdout",
     "output_type": "stream",
     "text": [
      "<class 'pandas.core.frame.DataFrame'>\n",
      "Int64Index: 564516 entries, 0 to 564515\n",
      "Data columns (total 13 columns):\n",
      "longitude    564516 non-null float64\n",
      "latitude     564516 non-null float64\n",
      "base         564516 non-null object\n",
      "hour         564516 non-null int64\n",
      "day          564516 non-null int64\n",
      "month        564516 non-null int64\n",
      "year         564516 non-null int64\n",
      "PRCP         564516 non-null object\n",
      "SNWD         564516 non-null object\n",
      "SNOW         564516 non-null object\n",
      "TMAX         564516 non-null int64\n",
      "TMIN         564516 non-null int64\n",
      "AVGTEMP      564516 non-null float64\n",
      "dtypes: float64(3), int64(6), object(4)\n",
      "memory usage: 60.3+ MB\n"
     ]
    },
    {
     "data": {
      "text/html": [
       "<div>\n",
       "<table border=\"1\" class=\"dataframe\">\n",
       "  <thead>\n",
       "    <tr style=\"text-align: right;\">\n",
       "      <th></th>\n",
       "      <th>longitude</th>\n",
       "      <th>latitude</th>\n",
       "      <th>base</th>\n",
       "      <th>hour</th>\n",
       "      <th>day</th>\n",
       "      <th>month</th>\n",
       "      <th>year</th>\n",
       "      <th>PRCP</th>\n",
       "      <th>SNWD</th>\n",
       "      <th>SNOW</th>\n",
       "      <th>TMAX</th>\n",
       "      <th>TMIN</th>\n",
       "      <th>AVGTEMP</th>\n",
       "    </tr>\n",
       "  </thead>\n",
       "  <tbody>\n",
       "    <tr>\n",
       "      <th>0</th>\n",
       "      <td>40.7690</td>\n",
       "      <td>-73.9549</td>\n",
       "      <td>B02512</td>\n",
       "      <td>0</td>\n",
       "      <td>1</td>\n",
       "      <td>4</td>\n",
       "      <td>2014</td>\n",
       "      <td>0</td>\n",
       "      <td>0</td>\n",
       "      <td>0</td>\n",
       "      <td>156</td>\n",
       "      <td>39</td>\n",
       "      <td>97.5</td>\n",
       "    </tr>\n",
       "    <tr>\n",
       "      <th>1</th>\n",
       "      <td>40.7267</td>\n",
       "      <td>-74.0345</td>\n",
       "      <td>B02512</td>\n",
       "      <td>0</td>\n",
       "      <td>1</td>\n",
       "      <td>4</td>\n",
       "      <td>2014</td>\n",
       "      <td>0</td>\n",
       "      <td>0</td>\n",
       "      <td>0</td>\n",
       "      <td>156</td>\n",
       "      <td>39</td>\n",
       "      <td>97.5</td>\n",
       "    </tr>\n",
       "    <tr>\n",
       "      <th>2</th>\n",
       "      <td>40.7316</td>\n",
       "      <td>-73.9873</td>\n",
       "      <td>B02512</td>\n",
       "      <td>0</td>\n",
       "      <td>1</td>\n",
       "      <td>4</td>\n",
       "      <td>2014</td>\n",
       "      <td>0</td>\n",
       "      <td>0</td>\n",
       "      <td>0</td>\n",
       "      <td>156</td>\n",
       "      <td>39</td>\n",
       "      <td>97.5</td>\n",
       "    </tr>\n",
       "    <tr>\n",
       "      <th>3</th>\n",
       "      <td>40.7588</td>\n",
       "      <td>-73.9776</td>\n",
       "      <td>B02512</td>\n",
       "      <td>0</td>\n",
       "      <td>1</td>\n",
       "      <td>4</td>\n",
       "      <td>2014</td>\n",
       "      <td>0</td>\n",
       "      <td>0</td>\n",
       "      <td>0</td>\n",
       "      <td>156</td>\n",
       "      <td>39</td>\n",
       "      <td>97.5</td>\n",
       "    </tr>\n",
       "    <tr>\n",
       "      <th>4</th>\n",
       "      <td>40.7594</td>\n",
       "      <td>-73.9722</td>\n",
       "      <td>B02512</td>\n",
       "      <td>0</td>\n",
       "      <td>1</td>\n",
       "      <td>4</td>\n",
       "      <td>2014</td>\n",
       "      <td>0</td>\n",
       "      <td>0</td>\n",
       "      <td>0</td>\n",
       "      <td>156</td>\n",
       "      <td>39</td>\n",
       "      <td>97.5</td>\n",
       "    </tr>\n",
       "  </tbody>\n",
       "</table>\n",
       "</div>"
      ],
      "text/plain": [
       "   longitude  latitude    base  hour  day  month  year PRCP SNWD SNOW  TMAX  \\\n",
       "0    40.7690  -73.9549  B02512     0    1      4  2014    0    0    0   156   \n",
       "1    40.7267  -74.0345  B02512     0    1      4  2014    0    0    0   156   \n",
       "2    40.7316  -73.9873  B02512     0    1      4  2014    0    0    0   156   \n",
       "3    40.7588  -73.9776  B02512     0    1      4  2014    0    0    0   156   \n",
       "4    40.7594  -73.9722  B02512     0    1      4  2014    0    0    0   156   \n",
       "\n",
       "   TMIN  AVGTEMP  \n",
       "0    39     97.5  \n",
       "1    39     97.5  \n",
       "2    39     97.5  \n",
       "3    39     97.5  \n",
       "4    39     97.5  "
      ]
     },
     "execution_count": 137,
     "metadata": {},
     "output_type": "execute_result"
    }
   ],
   "source": [
    "UberWeatherPD = pd.merge(uberPD, weatherPD, how='left', on=['day','month','year'])\n",
    "UberWeatherPD.info()\n",
    "UberWeatherPD.head()"
   ]
  },
  {
   "cell_type": "code",
   "execution_count": 138,
   "metadata": {
    "collapsed": false
   },
   "outputs": [
    {
     "data": {
      "text/plain": [
       "<matplotlib.text.Text at 0x7f6948156b70>"
      ]
     },
     "execution_count": 138,
     "metadata": {},
     "output_type": "execute_result"
    },
    {
     "data": {
      "image/png": "[encoded data removed]",
      "text/plain": [
       "<matplotlib.figure.Figure at 0x7f6941451f28>"
      ]
     },
     "metadata": {},
     "output_type": "display_data"
    }
   ],
   "source": [
    "hourDemand = UberWeatherPD['longitude'].groupby(UberWeatherPD['hour']).count()\n",
    "hourDemand.plot(kind='bar')\n",
    "plt.xlabel(\"Time of Day (April 2014)\")\n",
    "plt.ylabel(\"No. of Uber Pickups\")"
   ]
  },
  {
   "cell_type": "code",
   "execution_count": 139,
   "metadata": {
    "collapsed": false
   },
   "outputs": [
    {
     "name": "stdout",
     "output_type": "stream",
     "text": [
      "Maximum demand was 45475 in the hour 17\n",
      "Minimum demand was 4935 int the hour 2\n"
     ]
    }
   ],
   "source": [
    "print(\"Maximum demand was\", hourDemand.max() , \"in the hour\", hourDemand.idxmax())\n",
    "print(\"Minimum demand was\", hourDemand.min() , \"int the hour\",  hourDemand.idxmin())"
   ]
  },
  {
   "cell_type": "code",
   "execution_count": 145,
   "metadata": {
    "collapsed": false
   },
   "outputs": [
    {
     "name": "stdout",
     "output_type": "stream",
     "text": [
      "Mean Demand for month of April 2014:  23521.5\n",
      "Total Demand for month of April 2014:  564516\n"
     ]
    }
   ],
   "source": [
    "print(\"Mean Demand for month of April 2014: \", hourDemand.mean())\n",
    "print(\"Total Demand for month of April 2014: \", hourDemand.sum())"
   ]
  },
  {
   "cell_type": "code",
   "execution_count": 146,
   "metadata": {
    "collapsed": false
   },
   "outputs": [
    {
     "data": {
      "text/plain": [
       "<matplotlib.text.Text at 0x7f6943f564a8>"
      ]
     },
     "execution_count": 146,
     "metadata": {},
     "output_type": "execute_result"
    },
    {
     "data": {
      "image/png": "[encoded data removed]",
      "text/plain": [
       "<matplotlib.figure.Figure at 0x7f694243bd30>"
      ]
     },
     "metadata": {},
     "output_type": "display_data"
    }
   ],
   "source": [
    "dayDemand = UberWeatherPD['base'].groupby(UberWeatherPD['day']).count()\n",
    "dayDemand.plot(kind='line')\n",
    "plt.xlabel(\"Day of April 2014\")\n",
    "plt.ylabel(\"No. of Uber Pickups\")"
   ]
  },
  {
   "cell_type": "code",
   "execution_count": 147,
   "metadata": {
    "collapsed": false
   },
   "outputs": [
    {
     "name": "stdout",
     "output_type": "stream",
     "text": [
      "Maximum demand was 36251 on the day 30\n",
      "Minimum demand was 11017 on the day 20\n"
     ]
    }
   ],
   "source": [
    "print(\"Maximum demand was\", dayDemand.max() , \"on the day\", dayDemand.idxmax())\n",
    "print(\"Minimum demand was\", dayDemand.min() , \"on the day\", dayDemand.idxmin())"
   ]
  },
  {
   "cell_type": "code",
   "execution_count": 148,
   "metadata": {
    "collapsed": false
   },
   "outputs": [
    {
     "data": {
      "text/plain": [
       "<matplotlib.text.Text at 0x7f6943cde198>"
      ]
     },
     "execution_count": 148,
     "metadata": {},
     "output_type": "execute_result"
    },
    {
     "data": {
      "image/png": "[encoded data removed]",
      "text/plain": [
       "<matplotlib.figure.Figure at 0x7f6948d16c88>"
      ]
     },
     "metadata": {},
     "output_type": "display_data"
    }
   ],
   "source": [
    "baseDemand = UberWeatherPD['longitude'].groupby(UberWeatherPD['base']).count()\n",
    "baseDemand.plot(kind='barh')\n",
    "plt.xlabel('Taxi/Uber Pickups')\n",
    "plt.ylabel('Uber Base in NYC')"
   ]
  },
  {
   "cell_type": "code",
   "execution_count": 164,
   "metadata": {
    "collapsed": false
   },
   "outputs": [
    {
     "data": {
      "text/plain": [
       "<matplotlib.axes._subplots.AxesSubplot at 0x7f6939b39be0>"
      ]
     },
     "execution_count": 164,
     "metadata": {},
     "output_type": "execute_result"
    },
    {
     "data": {
      "image/png": "[encoded data removed]",
      "text/plain": [
       "<matplotlib.figure.Figure at 0x7f693a265940>"
      ]
     },
     "metadata": {},
     "output_type": "display_data"
    }
   ],
   "source": [
    "dayBaseDemand = UberWeatherPD['longitude'].groupby([UberWeatherPD['base'], UberWeatherPD['day']]).count()\n",
    "dayBaseDemand.head()\n",
    "dayBaseDemand.plot(kind='line')"
   ]
  }
 ],
 "metadata": {
  "kernelspec": {
   "display_name": "Python 3",
   "language": "python",
   "name": "python3"
  },
  "language_info": {
   "codemirror_mode": {
    "name": "ipython",
    "version": 3
   },
   "file_extension": ".py",
   "mimetype": "text/x-python",
   "name": "python",
   "nbconvert_exporter": "python",
   "pygments_lexer": "ipython3",
   "version": "3.5.2"
  }
 },
 "nbformat": 4,
 "nbformat_minor": 2
}
