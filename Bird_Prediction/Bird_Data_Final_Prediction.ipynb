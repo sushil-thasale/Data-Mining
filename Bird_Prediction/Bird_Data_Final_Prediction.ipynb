{
 "cells": [
  {
   "cell_type": "markdown",
   "metadata": {},
   "source": [
    "# <h3><i>1. Load persisted models from disk<br> 2. Perform prediction<br> 3. Write the resulting predictions to disk."
   ]
  },
  {
   "cell_type": "code",
   "execution_count": 2,
   "metadata": {
    "collapsed": true
   },
   "outputs": [],
   "source": [
    "import os\n",
    "import subprocess\n",
    "import pandas as pd\n",
    "import numpy as np\n",
    "%matplotlib inline\n",
    "import matplotlib.pyplot as plt\n",
    "from mpl_toolkits.mplot3d import Axes3D\n",
    "from pyspark import SparkContext\n",
    "import operator\n",
    "import warnings\n",
    "import random\n",
    "import math\n",
    "\n",
    "os.environ['PYSPARK_PYTHON'] = '/usr/bin/python3'\n",
    "\n",
    "SparkContext.setSystemProperty('spark.executor.memory', '5g')\n",
    "\n",
    "warnings.filterwarnings(\"ignore\", category=DeprecationWarning) "
   ]
  },
  {
   "cell_type": "code",
   "execution_count": 23,
   "metadata": {
    "collapsed": true
   },
   "outputs": [],
   "source": [
    "unlabeled_data = \"pre_processed_data/pre_processed_unlabeled.csv\"\n",
    "# inputModel = \"saved_models/Random_Forest_Model_1000.pkl\"\n",
    "inputModel = \"saved_models/Random_Forest_Model_final.pkl\"\n",
    "outputFile = \"final_prediction_result/final_results_13.csv\""
   ]
  },
  {
   "cell_type": "code",
   "execution_count": 9,
   "metadata": {
    "collapsed": true
   },
   "outputs": [],
   "source": [
    "# all the features\n",
    "features = ['sampling_id', 'loc_id', 'month', 'time', 'timeSin', 'timeCos', 'effort_hours', 'population_per_mile',\\\n",
    "            'housing_density', 'housing_vacant', 'OMERNIK_L3_ECOREGION', 'Average_Temp','Flowing_fresh_in',\\\n",
    "            'WetVeg_fresh_from', 'WetVeg_fresh_in', 'flowing_brackish_from', 'flowing_brackish_in',\\\n",
    "            'standing_brackish_from', 'standing_brackish_in', 'wetveg_brackish_from', 'wetveg_brackish_in',\\\n",
    "            'birdPresent']\n",
    "\n",
    "# experimenting with few features\n",
    "sampleFeatures = ['sampling_id', 'loc_id', 'month', 'time', 'timeSin', 'timeCos','effort_hours',\\\n",
    "                  'population_per_mile', 'housing_density', 'housing_vacant', 'OMERNIK_L3_ECOREGION',\\\n",
    "                  'Average_Temp']\n",
    "\n",
    "# set of independent variables\n",
    "independentVariables = ['loc_id', 'month', 'time', 'timeSin', 'timeCos','effort_hours',\\\n",
    "                        'population_per_mile', 'housing_density', 'housing_vacant', 'OMERNIK_L3_ECOREGION',\\\n",
    "                        'Average_Temp']\n",
    "\n",
    "dependentVariable = 'birdPresent'"
   ]
  },
  {
   "cell_type": "markdown",
   "metadata": {},
   "source": [
    "# <i>Load Unlabeled Data"
   ]
  },
  {
   "cell_type": "code",
   "execution_count": 10,
   "metadata": {
    "collapsed": false
   },
   "outputs": [],
   "source": [
    "birdDataPD = pd.read_csv(unlabeled_data, names = sampleFeatures)   "
   ]
  },
  {
   "cell_type": "code",
   "execution_count": 12,
   "metadata": {
    "collapsed": false
   },
   "outputs": [
    {
     "data": {
      "text/html": [
       "<div>\n",
       "<table border=\"1\" class=\"dataframe\">\n",
       "  <thead>\n",
       "    <tr style=\"text-align: right;\">\n",
       "      <th></th>\n",
       "      <th>sampling_id</th>\n",
       "      <th>loc_id</th>\n",
       "      <th>month</th>\n",
       "      <th>time</th>\n",
       "      <th>timeSin</th>\n",
       "      <th>timeCos</th>\n",
       "      <th>effort_hours</th>\n",
       "      <th>population_per_mile</th>\n",
       "      <th>housing_density</th>\n",
       "      <th>housing_vacant</th>\n",
       "      <th>OMERNIK_L3_ECOREGION</th>\n",
       "      <th>Average_Temp</th>\n",
       "    </tr>\n",
       "  </thead>\n",
       "  <tbody>\n",
       "    <tr>\n",
       "      <th>0</th>\n",
       "      <td>S18238876</td>\n",
       "      <td>2829621</td>\n",
       "      <td>5</td>\n",
       "      <td>0.541667</td>\n",
       "      <td>-0.258819</td>\n",
       "      <td>-0.965926</td>\n",
       "      <td>0.333</td>\n",
       "      <td>-999.0</td>\n",
       "      <td>-999.000000</td>\n",
       "      <td>-999.000000</td>\n",
       "      <td>-999</td>\n",
       "      <td>-999</td>\n",
       "    </tr>\n",
       "    <tr>\n",
       "      <th>1</th>\n",
       "      <td>S18107686</td>\n",
       "      <td>2803720</td>\n",
       "      <td>4</td>\n",
       "      <td>0.583333</td>\n",
       "      <td>-0.500000</td>\n",
       "      <td>-0.866025</td>\n",
       "      <td>0.167</td>\n",
       "      <td>-999.0</td>\n",
       "      <td>-999.000000</td>\n",
       "      <td>-999.000000</td>\n",
       "      <td>-999</td>\n",
       "      <td>-999</td>\n",
       "    </tr>\n",
       "    <tr>\n",
       "      <th>2</th>\n",
       "      <td>S16945485</td>\n",
       "      <td>1018735</td>\n",
       "      <td>2</td>\n",
       "      <td>0.666667</td>\n",
       "      <td>-0.866025</td>\n",
       "      <td>-0.500000</td>\n",
       "      <td>0.733</td>\n",
       "      <td>-999.0</td>\n",
       "      <td>-999.000000</td>\n",
       "      <td>-999.000000</td>\n",
       "      <td>76</td>\n",
       "      <td>-999</td>\n",
       "    </tr>\n",
       "    <tr>\n",
       "      <th>3</th>\n",
       "      <td>S17150783</td>\n",
       "      <td>1018735</td>\n",
       "      <td>2</td>\n",
       "      <td>0.333333</td>\n",
       "      <td>0.866025</td>\n",
       "      <td>-0.500000</td>\n",
       "      <td>0.750</td>\n",
       "      <td>-999.0</td>\n",
       "      <td>-999.000000</td>\n",
       "      <td>-999.000000</td>\n",
       "      <td>76</td>\n",
       "      <td>-999</td>\n",
       "    </tr>\n",
       "    <tr>\n",
       "      <th>4</th>\n",
       "      <td>S17342160</td>\n",
       "      <td>825761</td>\n",
       "      <td>3</td>\n",
       "      <td>0.333333</td>\n",
       "      <td>0.866025</td>\n",
       "      <td>-0.500000</td>\n",
       "      <td>0.467</td>\n",
       "      <td>1949.2</td>\n",
       "      <td>1144.513853</td>\n",
       "      <td>0.228048</td>\n",
       "      <td>-999</td>\n",
       "      <td>7</td>\n",
       "    </tr>\n",
       "  </tbody>\n",
       "</table>\n",
       "</div>"
      ],
      "text/plain": [
       "  sampling_id   loc_id  month      time   timeSin   timeCos  effort_hours  \\\n",
       "0   S18238876  2829621      5  0.541667 -0.258819 -0.965926         0.333   \n",
       "1   S18107686  2803720      4  0.583333 -0.500000 -0.866025         0.167   \n",
       "2   S16945485  1018735      2  0.666667 -0.866025 -0.500000         0.733   \n",
       "3   S17150783  1018735      2  0.333333  0.866025 -0.500000         0.750   \n",
       "4   S17342160   825761      3  0.333333  0.866025 -0.500000         0.467   \n",
       "\n",
       "   population_per_mile  housing_density  housing_vacant  OMERNIK_L3_ECOREGION  \\\n",
       "0               -999.0      -999.000000     -999.000000                  -999   \n",
       "1               -999.0      -999.000000     -999.000000                  -999   \n",
       "2               -999.0      -999.000000     -999.000000                    76   \n",
       "3               -999.0      -999.000000     -999.000000                    76   \n",
       "4               1949.2      1144.513853        0.228048                  -999   \n",
       "\n",
       "   Average_Temp  \n",
       "0          -999  \n",
       "1          -999  \n",
       "2          -999  \n",
       "3          -999  \n",
       "4             7  "
      ]
     },
     "execution_count": 12,
     "metadata": {},
     "output_type": "execute_result"
    }
   ],
   "source": [
    "birdDataPD.head()"
   ]
  },
  {
   "cell_type": "code",
   "execution_count": 13,
   "metadata": {
    "collapsed": false
   },
   "outputs": [
    {
     "name": "stdout",
     "output_type": "stream",
     "text": [
      "<class 'pandas.core.frame.DataFrame'>\n",
      "RangeIndex: 189501 entries, 0 to 189500\n",
      "Data columns (total 12 columns):\n",
      "sampling_id             189501 non-null object\n",
      "loc_id                  189501 non-null int64\n",
      "month                   189501 non-null int64\n",
      "time                    189501 non-null float64\n",
      "timeSin                 189501 non-null float64\n",
      "timeCos                 189501 non-null float64\n",
      "effort_hours            189501 non-null float64\n",
      "population_per_mile     189501 non-null float64\n",
      "housing_density         189501 non-null float64\n",
      "housing_vacant          189501 non-null float64\n",
      "OMERNIK_L3_ECOREGION    189501 non-null int64\n",
      "Average_Temp            189501 non-null int64\n",
      "dtypes: float64(7), int64(4), object(1)\n",
      "memory usage: 17.3+ MB\n"
     ]
    }
   ],
   "source": [
    "birdDataPD.info()"
   ]
  },
  {
   "cell_type": "markdown",
   "metadata": {},
   "source": [
    "# <i>Load persisted Random Forest Model"
   ]
  },
  {
   "cell_type": "code",
   "execution_count": 14,
   "metadata": {
    "collapsed": true
   },
   "outputs": [],
   "source": [
    "from sklearn.externals import joblib\n",
    "RF_Model = joblib.load(inputModel) "
   ]
  },
  {
   "cell_type": "markdown",
   "metadata": {},
   "source": [
    "# <i>Perform final prediction using Random Forest Model"
   ]
  },
  {
   "cell_type": "code",
   "execution_count": 18,
   "metadata": {
    "collapsed": false
   },
   "outputs": [],
   "source": [
    "from sklearn.ensemble import RandomForestClassifier\n",
    "\n",
    "birdDataPD['SAW_AGELAIUS_PHOENICEUS'] = RF_Model.predict(birdDataPD[independentVariables])"
   ]
  },
  {
   "cell_type": "code",
   "execution_count": 19,
   "metadata": {
    "collapsed": false
   },
   "outputs": [
    {
     "data": {
      "text/html": [
       "<div>\n",
       "<table border=\"1\" class=\"dataframe\">\n",
       "  <thead>\n",
       "    <tr style=\"text-align: right;\">\n",
       "      <th></th>\n",
       "      <th>sampling_id</th>\n",
       "      <th>loc_id</th>\n",
       "      <th>month</th>\n",
       "      <th>time</th>\n",
       "      <th>timeSin</th>\n",
       "      <th>timeCos</th>\n",
       "      <th>effort_hours</th>\n",
       "      <th>population_per_mile</th>\n",
       "      <th>housing_density</th>\n",
       "      <th>housing_vacant</th>\n",
       "      <th>OMERNIK_L3_ECOREGION</th>\n",
       "      <th>Average_Temp</th>\n",
       "      <th>SAW_AGELAIUS_PHOENICEUS</th>\n",
       "    </tr>\n",
       "  </thead>\n",
       "  <tbody>\n",
       "    <tr>\n",
       "      <th>0</th>\n",
       "      <td>S18238876</td>\n",
       "      <td>2829621</td>\n",
       "      <td>5</td>\n",
       "      <td>0.541667</td>\n",
       "      <td>-0.258819</td>\n",
       "      <td>-0.965926</td>\n",
       "      <td>0.333</td>\n",
       "      <td>-999.0</td>\n",
       "      <td>-999.000000</td>\n",
       "      <td>-999.000000</td>\n",
       "      <td>-999</td>\n",
       "      <td>-999</td>\n",
       "      <td>0</td>\n",
       "    </tr>\n",
       "    <tr>\n",
       "      <th>1</th>\n",
       "      <td>S18107686</td>\n",
       "      <td>2803720</td>\n",
       "      <td>4</td>\n",
       "      <td>0.583333</td>\n",
       "      <td>-0.500000</td>\n",
       "      <td>-0.866025</td>\n",
       "      <td>0.167</td>\n",
       "      <td>-999.0</td>\n",
       "      <td>-999.000000</td>\n",
       "      <td>-999.000000</td>\n",
       "      <td>-999</td>\n",
       "      <td>-999</td>\n",
       "      <td>0</td>\n",
       "    </tr>\n",
       "    <tr>\n",
       "      <th>2</th>\n",
       "      <td>S16945485</td>\n",
       "      <td>1018735</td>\n",
       "      <td>2</td>\n",
       "      <td>0.666667</td>\n",
       "      <td>-0.866025</td>\n",
       "      <td>-0.500000</td>\n",
       "      <td>0.733</td>\n",
       "      <td>-999.0</td>\n",
       "      <td>-999.000000</td>\n",
       "      <td>-999.000000</td>\n",
       "      <td>76</td>\n",
       "      <td>-999</td>\n",
       "      <td>0</td>\n",
       "    </tr>\n",
       "    <tr>\n",
       "      <th>3</th>\n",
       "      <td>S17150783</td>\n",
       "      <td>1018735</td>\n",
       "      <td>2</td>\n",
       "      <td>0.333333</td>\n",
       "      <td>0.866025</td>\n",
       "      <td>-0.500000</td>\n",
       "      <td>0.750</td>\n",
       "      <td>-999.0</td>\n",
       "      <td>-999.000000</td>\n",
       "      <td>-999.000000</td>\n",
       "      <td>76</td>\n",
       "      <td>-999</td>\n",
       "      <td>0</td>\n",
       "    </tr>\n",
       "    <tr>\n",
       "      <th>4</th>\n",
       "      <td>S17342160</td>\n",
       "      <td>825761</td>\n",
       "      <td>3</td>\n",
       "      <td>0.333333</td>\n",
       "      <td>0.866025</td>\n",
       "      <td>-0.500000</td>\n",
       "      <td>0.467</td>\n",
       "      <td>1949.2</td>\n",
       "      <td>1144.513853</td>\n",
       "      <td>0.228048</td>\n",
       "      <td>-999</td>\n",
       "      <td>7</td>\n",
       "      <td>0</td>\n",
       "    </tr>\n",
       "  </tbody>\n",
       "</table>\n",
       "</div>"
      ],
      "text/plain": [
       "  sampling_id   loc_id  month      time   timeSin   timeCos  effort_hours  \\\n",
       "0   S18238876  2829621      5  0.541667 -0.258819 -0.965926         0.333   \n",
       "1   S18107686  2803720      4  0.583333 -0.500000 -0.866025         0.167   \n",
       "2   S16945485  1018735      2  0.666667 -0.866025 -0.500000         0.733   \n",
       "3   S17150783  1018735      2  0.333333  0.866025 -0.500000         0.750   \n",
       "4   S17342160   825761      3  0.333333  0.866025 -0.500000         0.467   \n",
       "\n",
       "   population_per_mile  housing_density  housing_vacant  OMERNIK_L3_ECOREGION  \\\n",
       "0               -999.0      -999.000000     -999.000000                  -999   \n",
       "1               -999.0      -999.000000     -999.000000                  -999   \n",
       "2               -999.0      -999.000000     -999.000000                    76   \n",
       "3               -999.0      -999.000000     -999.000000                    76   \n",
       "4               1949.2      1144.513853        0.228048                  -999   \n",
       "\n",
       "   Average_Temp  SAW_AGELAIUS_PHOENICEUS  \n",
       "0          -999                        0  \n",
       "1          -999                        0  \n",
       "2          -999                        0  \n",
       "3          -999                        0  \n",
       "4             7                        0  "
      ]
     },
     "execution_count": 19,
     "metadata": {},
     "output_type": "execute_result"
    }
   ],
   "source": [
    "birdDataPD.head()"
   ]
  },
  {
   "cell_type": "code",
   "execution_count": 21,
   "metadata": {
    "collapsed": false
   },
   "outputs": [],
   "source": [
    "birdDataPD.rename(columns=lambda x: x.replace('sampling_id', 'SAMPLING_EVENT_ID'), inplace=True)"
   ]
  },
  {
   "cell_type": "code",
   "execution_count": 22,
   "metadata": {
    "collapsed": false,
    "scrolled": true
   },
   "outputs": [
    {
     "data": {
      "text/html": [
       "<div>\n",
       "<table border=\"1\" class=\"dataframe\">\n",
       "  <thead>\n",
       "    <tr style=\"text-align: right;\">\n",
       "      <th></th>\n",
       "      <th>SAMPLING_EVENT_ID</th>\n",
       "      <th>loc_id</th>\n",
       "      <th>month</th>\n",
       "      <th>time</th>\n",
       "      <th>timeSin</th>\n",
       "      <th>timeCos</th>\n",
       "      <th>effort_hours</th>\n",
       "      <th>population_per_mile</th>\n",
       "      <th>housing_density</th>\n",
       "      <th>housing_vacant</th>\n",
       "      <th>OMERNIK_L3_ECOREGION</th>\n",
       "      <th>Average_Temp</th>\n",
       "      <th>SAW_AGELAIUS_PHOENICEUS</th>\n",
       "    </tr>\n",
       "  </thead>\n",
       "  <tbody>\n",
       "    <tr>\n",
       "      <th>0</th>\n",
       "      <td>S18238876</td>\n",
       "      <td>2829621</td>\n",
       "      <td>5</td>\n",
       "      <td>0.541667</td>\n",
       "      <td>-0.258819</td>\n",
       "      <td>-0.965926</td>\n",
       "      <td>0.333</td>\n",
       "      <td>-999.0</td>\n",
       "      <td>-999.000000</td>\n",
       "      <td>-999.000000</td>\n",
       "      <td>-999</td>\n",
       "      <td>-999</td>\n",
       "      <td>0</td>\n",
       "    </tr>\n",
       "    <tr>\n",
       "      <th>1</th>\n",
       "      <td>S18107686</td>\n",
       "      <td>2803720</td>\n",
       "      <td>4</td>\n",
       "      <td>0.583333</td>\n",
       "      <td>-0.500000</td>\n",
       "      <td>-0.866025</td>\n",
       "      <td>0.167</td>\n",
       "      <td>-999.0</td>\n",
       "      <td>-999.000000</td>\n",
       "      <td>-999.000000</td>\n",
       "      <td>-999</td>\n",
       "      <td>-999</td>\n",
       "      <td>0</td>\n",
       "    </tr>\n",
       "    <tr>\n",
       "      <th>2</th>\n",
       "      <td>S16945485</td>\n",
       "      <td>1018735</td>\n",
       "      <td>2</td>\n",
       "      <td>0.666667</td>\n",
       "      <td>-0.866025</td>\n",
       "      <td>-0.500000</td>\n",
       "      <td>0.733</td>\n",
       "      <td>-999.0</td>\n",
       "      <td>-999.000000</td>\n",
       "      <td>-999.000000</td>\n",
       "      <td>76</td>\n",
       "      <td>-999</td>\n",
       "      <td>0</td>\n",
       "    </tr>\n",
       "    <tr>\n",
       "      <th>3</th>\n",
       "      <td>S17150783</td>\n",
       "      <td>1018735</td>\n",
       "      <td>2</td>\n",
       "      <td>0.333333</td>\n",
       "      <td>0.866025</td>\n",
       "      <td>-0.500000</td>\n",
       "      <td>0.750</td>\n",
       "      <td>-999.0</td>\n",
       "      <td>-999.000000</td>\n",
       "      <td>-999.000000</td>\n",
       "      <td>76</td>\n",
       "      <td>-999</td>\n",
       "      <td>0</td>\n",
       "    </tr>\n",
       "    <tr>\n",
       "      <th>4</th>\n",
       "      <td>S17342160</td>\n",
       "      <td>825761</td>\n",
       "      <td>3</td>\n",
       "      <td>0.333333</td>\n",
       "      <td>0.866025</td>\n",
       "      <td>-0.500000</td>\n",
       "      <td>0.467</td>\n",
       "      <td>1949.2</td>\n",
       "      <td>1144.513853</td>\n",
       "      <td>0.228048</td>\n",
       "      <td>-999</td>\n",
       "      <td>7</td>\n",
       "      <td>0</td>\n",
       "    </tr>\n",
       "  </tbody>\n",
       "</table>\n",
       "</div>"
      ],
      "text/plain": [
       "  SAMPLING_EVENT_ID   loc_id  month      time   timeSin   timeCos  \\\n",
       "0         S18238876  2829621      5  0.541667 -0.258819 -0.965926   \n",
       "1         S18107686  2803720      4  0.583333 -0.500000 -0.866025   \n",
       "2         S16945485  1018735      2  0.666667 -0.866025 -0.500000   \n",
       "3         S17150783  1018735      2  0.333333  0.866025 -0.500000   \n",
       "4         S17342160   825761      3  0.333333  0.866025 -0.500000   \n",
       "\n",
       "   effort_hours  population_per_mile  housing_density  housing_vacant  \\\n",
       "0         0.333               -999.0      -999.000000     -999.000000   \n",
       "1         0.167               -999.0      -999.000000     -999.000000   \n",
       "2         0.733               -999.0      -999.000000     -999.000000   \n",
       "3         0.750               -999.0      -999.000000     -999.000000   \n",
       "4         0.467               1949.2      1144.513853        0.228048   \n",
       "\n",
       "   OMERNIK_L3_ECOREGION  Average_Temp  SAW_AGELAIUS_PHOENICEUS  \n",
       "0                  -999          -999                        0  \n",
       "1                  -999          -999                        0  \n",
       "2                    76          -999                        0  \n",
       "3                    76          -999                        0  \n",
       "4                  -999             7                        0  "
      ]
     },
     "execution_count": 22,
     "metadata": {},
     "output_type": "execute_result"
    }
   ],
   "source": [
    "birdDataPD.head()"
   ]
  },
  {
   "cell_type": "markdown",
   "metadata": {},
   "source": [
    "# <i>Write predictions to disk"
   ]
  },
  {
   "cell_type": "code",
   "execution_count": 24,
   "metadata": {
    "collapsed": true
   },
   "outputs": [],
   "source": [
    "output_columns = ['SAMPLING_EVENT_ID', 'SAW_AGELAIUS_PHOENICEUS']\n",
    "birdDataPD[output_columns].to_csv(outputFile, index=False)"
   ]
  }
 ],
 "metadata": {
  "kernelspec": {
   "display_name": "Python 3",
   "language": "python",
   "name": "python3"
  },
  "language_info": {
   "codemirror_mode": {
    "name": "ipython",
    "version": 3
   },
   "file_extension": ".py",
   "mimetype": "text/x-python",
   "name": "python",
   "nbconvert_exporter": "python",
   "pygments_lexer": "ipython3",
   "version": "3.5.2"
  }
 },
 "nbformat": 4,
 "nbformat_minor": 2
}
