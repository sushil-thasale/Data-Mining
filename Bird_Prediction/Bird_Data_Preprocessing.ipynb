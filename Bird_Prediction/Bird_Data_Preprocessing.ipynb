{
 "cells": [
  {
   "cell_type": "markdown",
   "metadata": {},
   "source": [
    "# <i> Bird Data Pre-processing"
   ]
  },
  {
   "cell_type": "code",
   "execution_count": 11,
   "metadata": {
    "collapsed": false
   },
   "outputs": [],
   "source": [
    "# input_path_labeled = \"sample_data/sample_labeled_1000.csv\"\n",
    "# output_path_labeled = \"pre_processed_data/pre_processed_labeled_1000.csv\"\n",
    "input_path_labeled = \"original_data/labeled.csv\"\n",
    "output_path_labeled = \"pre_processed_data/pre_processed_labeled.csv\"\n",
    "input_path_unlabeled = \"original_data/unlabeled.csv\"\n",
    "output_path_unlabeled = \"pre_processed_data/pre_processed_unlabeled.csv\""
   ]
  },
  {
   "cell_type": "code",
   "execution_count": 7,
   "metadata": {
    "collapsed": false
   },
   "outputs": [],
   "source": [
    "# cleaning and pre-processing bird data\n",
    "\n",
    "import math\n",
    "\n",
    "def formatData(line, preprocess_type):\n",
    "    \n",
    "    cols = line.strip().split(\",\")\n",
    "    \n",
    "    sampling_id = cols[0]\n",
    "        \n",
    "    loc_id = cols[1][1:].strip()\n",
    "    month = '-999' if cols[5] in [\"\", \"?\"] else cols[5].strip()\n",
    "    \n",
    "    # classifying time in 24 bins\n",
    "    time = '-999' if cols[7] in [\"\", \"?\"] else str(int(float(cols[7].strip())))\n",
    "    timeSin = '-999'\n",
    "    timeCos = '-999'\n",
    "    \n",
    "    # computing sin and cos function to get smooth time wave\n",
    "    if(time!='-999'):\n",
    "        time = str(float(int(time)/24))\n",
    "        timeSin = str(math.sin(float(time)*2*math.pi))\n",
    "        timeCos = str(math.cos(float(time)*2*math.pi))\n",
    "    \n",
    "    # features selected after exploratory data analysis\n",
    "    effort_hours = '-999' if cols[12] in [\"\", \"?\"] else cols[12].strip()\n",
    "    population_per_mile = '-999' if cols[955] in [\"\", \"?\"] else cols[955].strip()\n",
    "    housing_density = '-999' if cols[956] in [\"\", \"?\"] else cols[956].strip()\n",
    "    housing_vacant = '-999' if cols[957] in [\"\", \"?\"] else cols[957].strip()\n",
    "    OMERNIK_L3_ECOREGION = '-999' if cols[962] in [\"\", \"?\"] else cols[962].strip()\n",
    "    Average_Temp = '-999' if cols[963] in [\"\", \"?\"] else cols[963].strip()\n",
    "    \n",
    "    # other useful features\n",
    "    \n",
    "#     Flowing_fresh_in = -999 if cols[1091] in [\"\", \"?\"] else float(cols[1091])\n",
    "#     WetVeg_fresh_from = -999 if cols[1094] in [\"\", \"?\"] else float(cols[1094])\n",
    "#     WetVeg_fresh_in = -999 if cols[1095] in [\"\", \"?\"] else float(cols[1095])\n",
    "#     flowing_brackish_from = -999 if cols[1096] in [\"\", \"?\"] else float(cols[1096])\n",
    "#     flowing_brackish_in = -999 if cols[1097] in [\"\", \"?\"] else float(cols[1097])\n",
    "#     standing_brackish_from = -999 if cols[1098] in [\"\", \"?\"] else float(cols[1098])\n",
    "#     standing_brackish_in = -999 if cols[1099] in [\"\", \"?\"] else float(cols[1099])\n",
    "#     wetveg_brackish_from = -999 if cols[1100] in [\"\", \"?\"] else float(cols[1100])\n",
    "#     wetveg_brackish_in = -999 if cols[1101] in [\"\", \"?\"] else float(cols[1101])\n",
    "#     index = cols[1657]\n",
    "\n",
    "    # 26th column (# of birds seen) \n",
    "    # can be 'X' - meaning it was seen\n",
    "    bird = cols[26]\n",
    "    \n",
    "    # decide birdPresent\n",
    "    birdPresent = 0\n",
    "    if bird in [\"\", \"?\"]:\n",
    "        birdPresent = 0\n",
    "    elif bird == 'X':\n",
    "        birdPresent = 1\n",
    "    elif int(bird) > 0:\n",
    "        birdPresent = 1\n",
    "    \n",
    "    if preprocess_type == 'train':\n",
    "        result = sampling_id+\",\"+loc_id+\",\"+month+\",\"+str(time)+\",\"+timeSin+\",\"+timeCos\\\n",
    "                            +\",\"+effort_hours+\",\"+population_per_mile+\",\"+housing_density\\\n",
    "                            +\",\"+housing_vacant+\",\"+OMERNIK_L3_ECOREGION+\",\"+Average_Temp\\\n",
    "                            +\",\"+str(birdPresent);\n",
    "                    \n",
    "    elif preprocess_type == 'final':\n",
    "        result = sampling_id+\",\"+loc_id+\",\"+month+\",\"+str(time)+\",\"+timeSin+\",\"+timeCos\\\n",
    "                            +\",\"+effort_hours+\",\"+population_per_mile+\",\"+housing_density\\\n",
    "                            +\",\"+housing_vacant+\",\"+OMERNIK_L3_ECOREGION+\",\"+Average_Temp;\n",
    "\n",
    "    return result"
   ]
  },
  {
   "cell_type": "markdown",
   "metadata": {},
   "source": [
    "# <i>Pre-process labeled dataset"
   ]
  },
  {
   "cell_type": "code",
   "execution_count": 8,
   "metadata": {
    "collapsed": false
   },
   "outputs": [],
   "source": [
    "preprocess_type = 'train'\n",
    "inputFile = open(input_path_labeled, 'r')\n",
    "outputFile = open(output_path_labeled, 'w')\n",
    "\n",
    "for line in inputFile:\n",
    "    \n",
    "    if \"SAMPLING\" not in line:\n",
    "        tup = formatData(line, preprocess_type)\n",
    "        outputFile.write(tup + \"\\n\")\n",
    "                                \n",
    "inputFile.close()\n",
    "outputFile.close()"
   ]
  },
  {
   "cell_type": "markdown",
   "metadata": {},
   "source": [
    "# <i>Pre-process unlabeled dataset"
   ]
  },
  {
   "cell_type": "code",
   "execution_count": 12,
   "metadata": {
    "collapsed": false
   },
   "outputs": [],
   "source": [
    "preprocess_type = 'final'\n",
    "inputFile = open(input_path_unlabeled, 'r')\n",
    "outputFile = open(output_path_unlabeled, 'w')\n",
    "\n",
    "for line in inputFile:\n",
    "    \n",
    "    if \"SAMPLING\" not in line:\n",
    "        tup = formatData(line, preprocess_type)\n",
    "        outputFile.write(tup + \"\\n\")\n",
    "                                \n",
    "inputFile.close()\n",
    "outputFile.close()"
   ]
  }
 ],
 "metadata": {
  "kernelspec": {
   "display_name": "Python 3",
   "language": "python",
   "name": "python3"
  },
  "language_info": {
   "codemirror_mode": {
    "name": "ipython",
    "version": 3
   },
   "file_extension": ".py",
   "mimetype": "text/x-python",
   "name": "python",
   "nbconvert_exporter": "python",
   "pygments_lexer": "ipython3",
   "version": "3.5.2"
  }
 },
 "nbformat": 4,
 "nbformat_minor": 2
}
