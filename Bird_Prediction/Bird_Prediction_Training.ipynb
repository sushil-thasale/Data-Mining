{
 "cells": [
  {
   "cell_type": "code",
   "execution_count": 1,
   "metadata": {
    "collapsed": true
   },
   "outputs": [],
   "source": [
    "import os\n",
    "import subprocess\n",
    "import pandas as pd\n",
    "import numpy as np\n",
    "%matplotlib inline\n",
    "import matplotlib.pyplot as plt\n",
    "from mpl_toolkits.mplot3d import Axes3D\n",
    "from pyspark import SparkContext\n",
    "import operator\n",
    "import warnings\n",
    "import random\n",
    "import math\n",
    "\n",
    "os.environ['PYSPARK_PYTHON'] = '/usr/bin/python3'\n",
    "\n",
    "SparkContext.setSystemProperty('spark.executor.memory', '5g')\n",
    "\n",
    "warnings.filterwarnings(\"ignore\", category=DeprecationWarning) "
   ]
  },
  {
   "cell_type": "code",
   "execution_count": 2,
   "metadata": {
    "collapsed": true
   },
   "outputs": [],
   "source": [
    "# inputFile = \"pre_processed_data/pre_processed_labelled_original_13.csv\"\n",
    "inputFile = \"pre_processed_data/pre_processed_labeled.csv\"\n",
    "outputModel = \"saved_models/Random_Forest_Model_final.pkl\""
   ]
  },
  {
   "cell_type": "markdown",
   "metadata": {},
   "source": [
    "# <i>Experimenting with features"
   ]
  },
  {
   "cell_type": "code",
   "execution_count": 3,
   "metadata": {
    "collapsed": true
   },
   "outputs": [],
   "source": [
    "# all the features\n",
    "features = ['sampling_id', 'loc_id', 'month', 'time', 'timeSin', 'timeCos', 'effor_hours', 'population_per_mile',\\\n",
    "            'housing_density', 'housing_vacant', 'OMERNIK_L3_ECOREGION', 'Average_Temp','Flowing_fresh_in',\\\n",
    "            'WetVeg_fresh_from', 'WetVeg_fresh_in', 'flowing_brackish_from', 'flowing_brackish_in',\\\n",
    "            'standing_brackish_from', 'standing_brackish_in', 'wetveg_brackish_from', 'wetveg_brackish_in',\\\n",
    "            'birdPresent']\n",
    "\n",
    "# experimenting with few features\n",
    "sampleFeatures = ['sampling_id', 'loc_id', 'month', 'time', 'timeSin', 'timeCos','effor_hours',\\\n",
    "                  'population_per_mile', 'housing_density', 'housing_vacant', 'OMERNIK_L3_ECOREGION',\\\n",
    "                  'Average_Temp', 'birdPresent']\n",
    "\n",
    "# set of independent variables\n",
    "independentVariables = ['loc_id', 'month', 'time', 'timeSin', 'timeCos','effor_hours',\\\n",
    "                        'population_per_mile', 'housing_density', 'housing_vacant', 'OMERNIK_L3_ECOREGION',\\\n",
    "                        'Average_Temp']\n",
    "\n",
    "dependentVariable = 'birdPresent'"
   ]
  },
  {
   "cell_type": "code",
   "execution_count": 4,
   "metadata": {
    "collapsed": false
   },
   "outputs": [],
   "source": [
    "birdDataPD = pd.read_csv(inputFile, names = sampleFeatures)    "
   ]
  },
  {
   "cell_type": "code",
   "execution_count": 5,
   "metadata": {
    "collapsed": false
   },
   "outputs": [
    {
     "data": {
      "text/html": [
       "<div>\n",
       "<table border=\"1\" class=\"dataframe\">\n",
       "  <thead>\n",
       "    <tr style=\"text-align: right;\">\n",
       "      <th></th>\n",
       "      <th>sampling_id</th>\n",
       "      <th>loc_id</th>\n",
       "      <th>month</th>\n",
       "      <th>time</th>\n",
       "      <th>timeSin</th>\n",
       "      <th>timeCos</th>\n",
       "      <th>effor_hours</th>\n",
       "      <th>population_per_mile</th>\n",
       "      <th>housing_density</th>\n",
       "      <th>housing_vacant</th>\n",
       "      <th>OMERNIK_L3_ECOREGION</th>\n",
       "      <th>Average_Temp</th>\n",
       "      <th>birdPresent</th>\n",
       "    </tr>\n",
       "  </thead>\n",
       "  <tbody>\n",
       "    <tr>\n",
       "      <th>0</th>\n",
       "      <td>S19205011</td>\n",
       "      <td>323822</td>\n",
       "      <td>7</td>\n",
       "      <td>0.208333</td>\n",
       "      <td>0.965926</td>\n",
       "      <td>0.258819</td>\n",
       "      <td>2.000</td>\n",
       "      <td>-999.0</td>\n",
       "      <td>-999.0</td>\n",
       "      <td>-999.0</td>\n",
       "      <td>-999</td>\n",
       "      <td>-999</td>\n",
       "      <td>0</td>\n",
       "    </tr>\n",
       "    <tr>\n",
       "      <th>1</th>\n",
       "      <td>S19205265</td>\n",
       "      <td>323822</td>\n",
       "      <td>7</td>\n",
       "      <td>0.208333</td>\n",
       "      <td>0.965926</td>\n",
       "      <td>0.258819</td>\n",
       "      <td>3.000</td>\n",
       "      <td>-999.0</td>\n",
       "      <td>-999.0</td>\n",
       "      <td>-999.0</td>\n",
       "      <td>-999</td>\n",
       "      <td>-999</td>\n",
       "      <td>0</td>\n",
       "    </tr>\n",
       "    <tr>\n",
       "      <th>2</th>\n",
       "      <td>S21300458</td>\n",
       "      <td>3285253</td>\n",
       "      <td>12</td>\n",
       "      <td>0.333333</td>\n",
       "      <td>0.866025</td>\n",
       "      <td>-0.500000</td>\n",
       "      <td>4.000</td>\n",
       "      <td>-999.0</td>\n",
       "      <td>-999.0</td>\n",
       "      <td>-999.0</td>\n",
       "      <td>-999</td>\n",
       "      <td>-999</td>\n",
       "      <td>0</td>\n",
       "    </tr>\n",
       "    <tr>\n",
       "      <th>3</th>\n",
       "      <td>S19745999</td>\n",
       "      <td>3071693</td>\n",
       "      <td>8</td>\n",
       "      <td>0.375000</td>\n",
       "      <td>0.707107</td>\n",
       "      <td>-0.707107</td>\n",
       "      <td>0.200</td>\n",
       "      <td>-999.0</td>\n",
       "      <td>-999.0</td>\n",
       "      <td>-999.0</td>\n",
       "      <td>-999</td>\n",
       "      <td>-999</td>\n",
       "      <td>0</td>\n",
       "    </tr>\n",
       "    <tr>\n",
       "      <th>4</th>\n",
       "      <td>S18238889</td>\n",
       "      <td>2829627</td>\n",
       "      <td>5</td>\n",
       "      <td>0.583333</td>\n",
       "      <td>-0.500000</td>\n",
       "      <td>-0.866025</td>\n",
       "      <td>0.333</td>\n",
       "      <td>-999.0</td>\n",
       "      <td>-999.0</td>\n",
       "      <td>-999.0</td>\n",
       "      <td>-999</td>\n",
       "      <td>-999</td>\n",
       "      <td>0</td>\n",
       "    </tr>\n",
       "  </tbody>\n",
       "</table>\n",
       "</div>"
      ],
      "text/plain": [
       "  sampling_id   loc_id  month      time   timeSin   timeCos  effor_hours  \\\n",
       "0   S19205011   323822      7  0.208333  0.965926  0.258819        2.000   \n",
       "1   S19205265   323822      7  0.208333  0.965926  0.258819        3.000   \n",
       "2   S21300458  3285253     12  0.333333  0.866025 -0.500000        4.000   \n",
       "3   S19745999  3071693      8  0.375000  0.707107 -0.707107        0.200   \n",
       "4   S18238889  2829627      5  0.583333 -0.500000 -0.866025        0.333   \n",
       "\n",
       "   population_per_mile  housing_density  housing_vacant  OMERNIK_L3_ECOREGION  \\\n",
       "0               -999.0           -999.0          -999.0                  -999   \n",
       "1               -999.0           -999.0          -999.0                  -999   \n",
       "2               -999.0           -999.0          -999.0                  -999   \n",
       "3               -999.0           -999.0          -999.0                  -999   \n",
       "4               -999.0           -999.0          -999.0                  -999   \n",
       "\n",
       "   Average_Temp  birdPresent  \n",
       "0          -999            0  \n",
       "1          -999            0  \n",
       "2          -999            0  \n",
       "3          -999            0  \n",
       "4          -999            0  "
      ]
     },
     "execution_count": 5,
     "metadata": {},
     "output_type": "execute_result"
    }
   ],
   "source": [
    "birdDataPD.head()"
   ]
  },
  {
   "cell_type": "code",
   "execution_count": 6,
   "metadata": {
    "collapsed": false
   },
   "outputs": [
    {
     "name": "stdout",
     "output_type": "stream",
     "text": [
      "<class 'pandas.core.frame.DataFrame'>\n",
      "RangeIndex: 1701975 entries, 0 to 1701974\n",
      "Data columns (total 13 columns):\n",
      "sampling_id             object\n",
      "loc_id                  int64\n",
      "month                   int64\n",
      "time                    float64\n",
      "timeSin                 float64\n",
      "timeCos                 float64\n",
      "effor_hours             float64\n",
      "population_per_mile     float64\n",
      "housing_density         float64\n",
      "housing_vacant          float64\n",
      "OMERNIK_L3_ECOREGION    int64\n",
      "Average_Temp            int64\n",
      "birdPresent             int64\n",
      "dtypes: float64(7), int64(5), object(1)\n",
      "memory usage: 168.8+ MB\n"
     ]
    }
   ],
   "source": [
    "birdDataPD.info()"
   ]
  },
  {
   "cell_type": "markdown",
   "metadata": {},
   "source": [
    "# <i>Generating Training set and Testing set"
   ]
  },
  {
   "cell_type": "code",
   "execution_count": 7,
   "metadata": {
    "collapsed": false
   },
   "outputs": [
    {
     "name": "stderr",
     "output_type": "stream",
     "text": [
      "/usr/local/lib/python3.5/dist-packages/sklearn/cross_validation.py:44: DeprecationWarning: This module was deprecated in version 0.18 in favor of the model_selection module into which all the refactored classes and functions are moved. Also note that the interface of the new CV iterators are different from that of this module. This module will be removed in 0.20.\n",
      "  \"This module will be removed in 0.20.\", DeprecationWarning)\n"
     ]
    }
   ],
   "source": [
    "from sklearn.cross_validation import train_test_split\n",
    "\n",
    "X = birdDataPD[independentVariables]\n",
    "y = birdDataPD[dependentVariable]\n",
    "\n",
    "X_train, X_test, y_train, y_test = train_test_split(X, y, train_size = 0.90, random_state=0)"
   ]
  },
  {
   "cell_type": "code",
   "execution_count": 8,
   "metadata": {
    "collapsed": false
   },
   "outputs": [
    {
     "name": "stdout",
     "output_type": "stream",
     "text": [
      "(1531777, 11)\n",
      "(1531777,)\n",
      "(170198, 11)\n",
      "(170198,)\n"
     ]
    }
   ],
   "source": [
    "print(X_train.shape)\n",
    "print(y_train.shape)\n",
    "print(X_test.shape)\n",
    "print(y_test.shape)"
   ]
  },
  {
   "cell_type": "code",
   "execution_count": 9,
   "metadata": {
    "collapsed": false
   },
   "outputs": [
    {
     "data": {
      "text/html": [
       "<div>\n",
       "<table border=\"1\" class=\"dataframe\">\n",
       "  <thead>\n",
       "    <tr style=\"text-align: right;\">\n",
       "      <th></th>\n",
       "      <th>loc_id</th>\n",
       "      <th>month</th>\n",
       "      <th>time</th>\n",
       "      <th>timeSin</th>\n",
       "      <th>timeCos</th>\n",
       "      <th>effor_hours</th>\n",
       "      <th>population_per_mile</th>\n",
       "      <th>housing_density</th>\n",
       "      <th>housing_vacant</th>\n",
       "      <th>OMERNIK_L3_ECOREGION</th>\n",
       "      <th>Average_Temp</th>\n",
       "    </tr>\n",
       "  </thead>\n",
       "  <tbody>\n",
       "    <tr>\n",
       "      <th>500295</th>\n",
       "      <td>718307</td>\n",
       "      <td>5</td>\n",
       "      <td>0.333333</td>\n",
       "      <td>0.866025</td>\n",
       "      <td>-0.500000</td>\n",
       "      <td>5.00</td>\n",
       "      <td>67.1</td>\n",
       "      <td>25.121305</td>\n",
       "      <td>0.032154</td>\n",
       "      <td>63</td>\n",
       "      <td>6</td>\n",
       "    </tr>\n",
       "    <tr>\n",
       "      <th>42006</th>\n",
       "      <td>2590519</td>\n",
       "      <td>1</td>\n",
       "      <td>0.416667</td>\n",
       "      <td>0.500000</td>\n",
       "      <td>-0.866025</td>\n",
       "      <td>0.50</td>\n",
       "      <td>1364.0</td>\n",
       "      <td>554.234861</td>\n",
       "      <td>0.086527</td>\n",
       "      <td>75</td>\n",
       "      <td>6</td>\n",
       "    </tr>\n",
       "    <tr>\n",
       "      <th>1664301</th>\n",
       "      <td>3000182</td>\n",
       "      <td>8</td>\n",
       "      <td>0.291667</td>\n",
       "      <td>0.965926</td>\n",
       "      <td>-0.258819</td>\n",
       "      <td>2.00</td>\n",
       "      <td>8.2</td>\n",
       "      <td>5.196126</td>\n",
       "      <td>0.433243</td>\n",
       "      <td>50</td>\n",
       "      <td>6</td>\n",
       "    </tr>\n",
       "    <tr>\n",
       "      <th>198592</th>\n",
       "      <td>129021</td>\n",
       "      <td>12</td>\n",
       "      <td>0.458333</td>\n",
       "      <td>0.258819</td>\n",
       "      <td>-0.965926</td>\n",
       "      <td>1.50</td>\n",
       "      <td>24.0</td>\n",
       "      <td>10.394246</td>\n",
       "      <td>0.078394</td>\n",
       "      <td>79</td>\n",
       "      <td>4</td>\n",
       "    </tr>\n",
       "    <tr>\n",
       "      <th>1496414</th>\n",
       "      <td>726694</td>\n",
       "      <td>11</td>\n",
       "      <td>0.125000</td>\n",
       "      <td>0.707107</td>\n",
       "      <td>0.707107</td>\n",
       "      <td>0.25</td>\n",
       "      <td>20.6</td>\n",
       "      <td>16.739752</td>\n",
       "      <td>0.461712</td>\n",
       "      <td>51</td>\n",
       "      <td>3</td>\n",
       "    </tr>\n",
       "  </tbody>\n",
       "</table>\n",
       "</div>"
      ],
      "text/plain": [
       "          loc_id  month      time   timeSin   timeCos  effor_hours  \\\n",
       "500295    718307      5  0.333333  0.866025 -0.500000         5.00   \n",
       "42006    2590519      1  0.416667  0.500000 -0.866025         0.50   \n",
       "1664301  3000182      8  0.291667  0.965926 -0.258819         2.00   \n",
       "198592    129021     12  0.458333  0.258819 -0.965926         1.50   \n",
       "1496414   726694     11  0.125000  0.707107  0.707107         0.25   \n",
       "\n",
       "         population_per_mile  housing_density  housing_vacant  \\\n",
       "500295                  67.1        25.121305        0.032154   \n",
       "42006                 1364.0       554.234861        0.086527   \n",
       "1664301                  8.2         5.196126        0.433243   \n",
       "198592                  24.0        10.394246        0.078394   \n",
       "1496414                 20.6        16.739752        0.461712   \n",
       "\n",
       "         OMERNIK_L3_ECOREGION  Average_Temp  \n",
       "500295                     63             6  \n",
       "42006                      75             6  \n",
       "1664301                    50             6  \n",
       "198592                     79             4  \n",
       "1496414                    51             3  "
      ]
     },
     "execution_count": 9,
     "metadata": {},
     "output_type": "execute_result"
    }
   ],
   "source": [
    "X_train.head()"
   ]
  },
  {
   "cell_type": "markdown",
   "metadata": {},
   "source": [
    "# <i>Grid Search for tunning hyperparameters"
   ]
  },
  {
   "cell_type": "code",
   "execution_count": 10,
   "metadata": {
    "collapsed": false
   },
   "outputs": [
    {
     "name": "stderr",
     "output_type": "stream",
     "text": [
      "/usr/local/lib/python3.5/dist-packages/sklearn/grid_search.py:43: DeprecationWarning: This module was deprecated in version 0.18 in favor of the model_selection module into which all the refactored classes and functions are moved. This module will be removed in 0.20.\n",
      "  DeprecationWarning)\n"
     ]
    }
   ],
   "source": [
    "from sklearn.grid_search import GridSearchCV\n",
    "\n",
    "# perform exhaustive search over specified parameter values for an estimator.\n",
    "# perform cross-validation\n",
    "# returns best estimator of best fitting model\n",
    "# http://scikit-learn.org/stable/modules/generated/sklearn.model_selection.GridSearchCV.html\n",
    "def grid_search_best_model(estimator, params, X, y, n_jobs = -1, n_folds = 5, score_func = None, verbose = 0):\n",
    "    if score_func:\n",
    "        model = GridSearchCV(estimator, param_grid = params, cv = n_folds, n_jobs = n_jobs, scoring = score_func, verbose = verbose)\n",
    "    else:\n",
    "        model = GridSearchCV(estimator, param_grid = params, n_jobs = n_jobs, cv = n_folds, verbose = verbose)\n",
    "    model.fit(X, y)\n",
    "    best_model = model.best_estimator_\n",
    "    return best_model\n",
    "\n",
    "# verbose : Controls the verbosity: the higher, the more messages.\n",
    "# cv : Determines the cross-validation splitting strategy.\n",
    "# n_jobs : Number of jobs to run in parallel.\n",
    "# param_grid : Dictionary with parameters names (string) as keys and lists of parameter settings to try as values"
   ]
  },
  {
   "cell_type": "markdown",
   "metadata": {},
   "source": [
    "# <i>Random Forest Classification"
   ]
  },
  {
   "cell_type": "code",
   "execution_count": 11,
   "metadata": {
    "collapsed": true
   },
   "outputs": [],
   "source": [
    "from sklearn.ensemble import RandomForestClassifier\n",
    "\n",
    "# Create a Random Forest Regression estimator\n",
    "# The number of jobs to run in parallel for both fit and predict.\n",
    "# If -1, then the number of jobs is set to the number of cores.\n",
    "# Training 100 trees in Forest\n",
    "RF_Regressor = RandomForestClassifier(n_estimators = 100, n_jobs=-1)"
   ]
  },
  {
   "cell_type": "markdown",
   "metadata": {},
   "source": [
    "<i><h4>Grid Search takes a long time to find the best model</h4>\n",
    "<h4>Make sure you comment out few parametrs in RF_parameters</h4><i>"
   ]
  },
  {
   "cell_type": "code",
   "execution_count": 12,
   "metadata": {
    "collapsed": false
   },
   "outputs": [
    {
     "name": "stdout",
     "output_type": "stream",
     "text": [
      "Fitting 5 folds for each of 1 candidates, totalling 5 fits\n",
      "[CV] max_features=auto, max_depth=15, min_samples_split=2, n_estimators=100 \n",
      "[CV] max_features=auto, max_depth=15, min_samples_split=2, n_estimators=100 \n",
      "[CV] max_features=auto, max_depth=15, min_samples_split=2, n_estimators=100 \n",
      "[CV] max_features=auto, max_depth=15, min_samples_split=2, n_estimators=100 \n",
      "[CV] max_features=auto, max_depth=15, min_samples_split=2, n_estimators=100 \n"
     ]
    },
    {
     "name": "stderr",
     "output_type": "stream",
     "text": [
      "/usr/local/lib/python3.5/dist-packages/sklearn/metrics/scorer.py:90: DeprecationWarning: Scoring method mean_squared_error was renamed to neg_mean_squared_error in version 0.18 and will be removed in 0.20.\n",
      "  sample_weight=sample_weight)\n"
     ]
    },
    {
     "name": "stdout",
     "output_type": "stream",
     "text": [
      "[CV]  max_features=auto, max_depth=15, min_samples_split=2, n_estimators=100, score=-0.201985 -11.0min\n"
     ]
    },
    {
     "name": "stderr",
     "output_type": "stream",
     "text": [
      "/usr/local/lib/python3.5/dist-packages/sklearn/metrics/scorer.py:90: DeprecationWarning: Scoring method mean_squared_error was renamed to neg_mean_squared_error in version 0.18 and will be removed in 0.20.\n",
      "  sample_weight=sample_weight)\n",
      "/usr/local/lib/python3.5/dist-packages/sklearn/metrics/scorer.py:90: DeprecationWarning: Scoring method mean_squared_error was renamed to neg_mean_squared_error in version 0.18 and will be removed in 0.20.\n",
      "  sample_weight=sample_weight)\n",
      "/usr/local/lib/python3.5/dist-packages/sklearn/metrics/scorer.py:90: DeprecationWarning: Scoring method mean_squared_error was renamed to neg_mean_squared_error in version 0.18 and will be removed in 0.20.\n",
      "  sample_weight=sample_weight)\n"
     ]
    },
    {
     "name": "stdout",
     "output_type": "stream",
     "text": [
      "[CV]  max_features=auto, max_depth=15, min_samples_split=2, n_estimators=100, score=-0.201567 -11.1min\n",
      "[CV]  max_features=auto, max_depth=15, min_samples_split=2, n_estimators=100, score=-0.200555 -11.1min\n"
     ]
    },
    {
     "name": "stderr",
     "output_type": "stream",
     "text": [
      "/usr/local/lib/python3.5/dist-packages/sklearn/metrics/scorer.py:90: DeprecationWarning: Scoring method mean_squared_error was renamed to neg_mean_squared_error in version 0.18 and will be removed in 0.20.\n",
      "  sample_weight=sample_weight)\n",
      "[Parallel(n_jobs=-1)]: Done   2 out of   5 | elapsed: 11.1min remaining: 16.6min\n"
     ]
    },
    {
     "name": "stdout",
     "output_type": "stream",
     "text": [
      "[CV]  max_features=auto, max_depth=15, min_samples_split=2, n_estimators=100, score=-0.201366 -11.1min\n",
      "[CV]  max_features=auto, max_depth=15, min_samples_split=2, n_estimators=100, score=-0.201335 -11.1min\n"
     ]
    },
    {
     "name": "stderr",
     "output_type": "stream",
     "text": [
      "[Parallel(n_jobs=-1)]: Done   5 out of   5 | elapsed: 11.2min finished\n"
     ]
    }
   ],
   "source": [
    "# Define a grid of parameters over which to optimize the random forest\n",
    "# We will figure out which number of trees is optimal\n",
    "RF_parameters = {\"min_samples_split\": [2], #[3, 4, 5]\n",
    "                  \"n_estimators\": [100], #[80, 90, 120, 150, 200] # no. of trees in forest\n",
    "                  \"max_features\": [\"auto\"], #[\"sqrt\", \"log2\", \"None\"] # If “auto”, then max_features = n_features.\n",
    "                  \"max_depth\": [15] #[16, 17, 18, 19, 25]\n",
    "                 }\n",
    "RF_best = grid_search_best_model(RF_Regressor, RF_parameters, X_train, y_train, n_folds=5, score_func='mean_squared_error', verbose=3)"
   ]
  },
  {
   "cell_type": "code",
   "execution_count": 13,
   "metadata": {
    "collapsed": false
   },
   "outputs": [],
   "source": [
    "RF_reg = RF_best.fit(X_train, y_train)"
   ]
  },
  {
   "cell_type": "markdown",
   "metadata": {},
   "source": [
    "<h3><i>Find Training and testing accuracy</h3>"
   ]
  },
  {
   "cell_type": "code",
   "execution_count": 14,
   "metadata": {
    "collapsed": false
   },
   "outputs": [
    {
     "name": "stdout",
     "output_type": "stream",
     "text": [
      "Accuracy on training data:  0.80762473911\n",
      "Accuracy on test data:  0.79875204174\n"
     ]
    }
   ],
   "source": [
    "RF_training_accuracy = RF_reg.score(X_train, y_train)\n",
    "RF_test_accuracy = RF_reg.score(X_test, y_test)\n",
    "print(\"Accuracy on training data: \", RF_training_accuracy)\n",
    "print(\"Accuracy on test data: \", RF_test_accuracy)\n",
    "# increase in depth increases the training accuracy but decreases the test accuracy \n",
    "# i.e data sticks too much to the data"
   ]
  },
  {
   "cell_type": "code",
   "execution_count": 15,
   "metadata": {
    "collapsed": false
   },
   "outputs": [],
   "source": [
    "RF_y_predict = RF_reg.predict(X_test)"
   ]
  },
  {
   "cell_type": "code",
   "execution_count": 16,
   "metadata": {
    "collapsed": false
   },
   "outputs": [
    {
     "data": {
      "text/plain": [
       "array([[ 0.5041329 ,  0.4958671 ],\n",
       "       [ 0.69764806,  0.30235194],\n",
       "       [ 0.90858874,  0.09141126],\n",
       "       [ 0.22685489,  0.77314511],\n",
       "       [ 0.70041968,  0.29958032],\n",
       "       [ 0.82331753,  0.17668247],\n",
       "       [ 0.36673672,  0.63326328],\n",
       "       [ 0.6362294 ,  0.3637706 ],\n",
       "       [ 0.71774759,  0.28225241],\n",
       "       [ 0.96057748,  0.03942252]])"
      ]
     },
     "execution_count": 16,
     "metadata": {},
     "output_type": "execute_result"
    }
   ],
   "source": [
    "RF_reg.predict_proba(X_test)[0:10]"
   ]
  },
  {
   "cell_type": "code",
   "execution_count": 17,
   "metadata": {
    "collapsed": true
   },
   "outputs": [],
   "source": [
    "from sklearn.metrics import accuracy_score"
   ]
  },
  {
   "cell_type": "code",
   "execution_count": 18,
   "metadata": {
    "collapsed": false
   },
   "outputs": [
    {
     "data": {
      "text/plain": [
       "0.79875204173962089"
      ]
     },
     "execution_count": 18,
     "metadata": {},
     "output_type": "execute_result"
    }
   ],
   "source": [
    "accuracy_score(y_test ,RF_y_predict)"
   ]
  },
  {
   "cell_type": "markdown",
   "metadata": {},
   "source": [
    "# <i>Writing model to disk"
   ]
  },
  {
   "cell_type": "code",
   "execution_count": 19,
   "metadata": {
    "collapsed": false
   },
   "outputs": [
    {
     "data": {
      "text/plain": [
       "['saved_models/Random_Forest_Model_final.pkl']"
      ]
     },
     "execution_count": 19,
     "metadata": {},
     "output_type": "execute_result"
    }
   ],
   "source": [
    "from sklearn.externals import joblib\n",
    "joblib.dump(RF_reg, outputModel)"
   ]
  },
  {
   "cell_type": "markdown",
   "metadata": {},
   "source": [
    "<h3><i>Which are the most important features?</h3>"
   ]
  },
  {
   "cell_type": "code",
   "execution_count": 20,
   "metadata": {
    "collapsed": false
   },
   "outputs": [
    {
     "data": {
      "text/plain": [
       "<matplotlib.text.Text at 0x7fc1a8193f98>"
      ]
     },
     "execution_count": 20,
     "metadata": {},
     "output_type": "execute_result"
    },
    {
     "data": {
      "image/png": "[encoded data removed]",
      "text/plain": [
       "<matplotlib.figure.Figure at 0x7fc1a81e1f28>"
      ]
     },
     "metadata": {},
     "output_type": "display_data"
    }
   ],
   "source": [
    "feature_importance_dict = dict(zip(list(independentVariables), RF_reg.feature_importances_))\n",
    "# sorting features in descending order of importance\n",
    "features_sorted_by_importance = sorted(feature_importance_dict.items(), key = operator.itemgetter(1), reverse = True)\n",
    "\n",
    "# considering only top 7 features\n",
    "featuresPD = pd.DataFrame(features_sorted_by_importance, columns=['Feature', 'Importance']).set_index('Feature')\n",
    "featuresPD.plot(kind='barh')\n",
    "plt.ylabel(\"Random Forest features\")\n",
    "plt.xlabel(\"Importance of features\")\n",
    "plt.title(\"Top features of Random Forest\")"
   ]
  },
  {
   "cell_type": "markdown",
   "metadata": {},
   "source": [
    "# <i>Actual vs Predicted Sigthings"
   ]
  },
  {
   "cell_type": "code",
   "execution_count": 21,
   "metadata": {
    "collapsed": false
   },
   "outputs": [
    {
     "data": {
      "text/plain": [
       "<matplotlib.text.Text at 0x7fc1a8055860>"
      ]
     },
     "execution_count": 21,
     "metadata": {},
     "output_type": "execute_result"
    },
    {
     "data": {
      "image/png": "[encoded data removed]",
      "text/plain": [
       "<matplotlib.figure.Figure at 0x7fc1a81786d8>"
      ]
     },
     "metadata": {},
     "output_type": "display_data"
    }
   ],
   "source": [
    "plt.figure(1)\n",
    "plt.figure(1).set_size_inches(18, 6)\n",
    "\n",
    "plt.subplot(211)\n",
    "plt.plot(y_test.reset_index()['birdPresent'])\n",
    "plt.title(\"Actual Bird Sighting (small data)\")\n",
    "\n",
    "plt.subplot(212)\n",
    "plt.plot(RF_y_predict)\n",
    "plt.title(\"Predicted Sighting using Random Forest (small data)\")"
   ]
  },
  {
   "cell_type": "markdown",
   "metadata": {},
   "source": [
    "# Decision Tree Classification"
   ]
  },
  {
   "cell_type": "markdown",
   "metadata": {},
   "source": [
    "<h3><i>It is not used in final prediction. It is just used to draw the decison tree. It would give an idea about the structure (attributes) of trees in Random Forest.</h3>"
   ]
  },
  {
   "cell_type": "code",
   "execution_count": 22,
   "metadata": {
    "collapsed": false
   },
   "outputs": [],
   "source": [
    "from sklearn import datasets,tree\n",
    "from io import StringIO\n",
    "import pydotplus \n",
    "from sklearn.tree import export_graphviz"
   ]
  },
  {
   "cell_type": "code",
   "execution_count": 23,
   "metadata": {
    "collapsed": false
   },
   "outputs": [],
   "source": [
    "d_tree = tree.DecisionTreeClassifier()\n",
    "d_tree = d_tree.fit(X_train, y_train)"
   ]
  },
  {
   "cell_type": "code",
   "execution_count": 24,
   "metadata": {
    "collapsed": false
   },
   "outputs": [],
   "source": [
    "dot_data = StringIO()\n",
    "dot_data = export_graphviz(d_tree, out_file=None) \n",
    "graph = pydotplus.graph_from_dot_data(dot_data) \n",
    "graph.write_pdf(\"Decision_tree_graph.pdf\")"
   ]
  }
 ],
 "metadata": {
  "kernelspec": {
   "display_name": "Python 3",
   "language": "python",
   "name": "python3"
  },
  "language_info": {
   "codemirror_mode": {
    "name": "ipython",
    "version": 3
   },
   "file_extension": ".py",
   "mimetype": "text/x-python",
   "name": "python",
   "nbconvert_exporter": "python",
   "pygments_lexer": "ipython3",
   "version": "3.5.2"
  }
 },
 "nbformat": 4,
 "nbformat_minor": 2
}
