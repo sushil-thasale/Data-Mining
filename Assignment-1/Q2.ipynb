{
 "cells": [
  {
   "cell_type": "code",
   "execution_count": 9,
   "metadata": {
    "collapsed": false
   },
   "outputs": [],
   "source": [
    "import matplotlib.pyplot as plt\n",
    "import numpy as np\n",
    "import math\n",
    "from math import log\n",
    "\n",
    "filePath = \"arnetminer/AP_train.txt\"\n",
    "#filePath = \"sample-data\"\n",
    "file = open(filePath,'r')\n",
    "\n",
    "authorPublications = {}  #{author, #publications}\n",
    "venuePublications = {}   #{venue, #publications}\n",
    "\n",
    "for line in file:      \n",
    "         \n",
    "    # compute no. of publications for each author    \n",
    "    if line.startswith(\"#@\"):\n",
    "        authors = line[2:].strip().split(\";\")\n",
    "        for author in authors:\n",
    "            author = author.strip()\n",
    "            if author != \"\":\n",
    "                if authorPublications.get(author) is None:\n",
    "                    authorPublications[author] = 1\n",
    "                else:\n",
    "                    authorPublications[author] = authorPublications.get(author) + 1            \n",
    "\n",
    "    # compute no. of publications for each venue                \n",
    "    if line.startswith(\"#c\"):\n",
    "        venue = line[2:].strip()\n",
    "        if venue != \"\":\n",
    "            if venuePublications.get(venue) is None:\n",
    "                venuePublications[venue] = 1\n",
    "            else:\n",
    "                venuePublications[venue] = venuePublications.get(venue) + 1\n",
    "   \n",
    "file.close()\n",
    "\n",
    "# converts to linear array (used for computing statistics)\n",
    "def getWeightedArray(xvalues, weights):\n",
    "     zippedArray = zip(xvalues, weights)\n",
    "     weightedArray = []\n",
    "     for item in zippedArray:\n",
    "         for frequency in range(item[1]):\n",
    "             weightedArray.append(item[0])\n",
    "     return weightedArray"
   ]
  },
  {
   "cell_type": "code",
   "execution_count": 10,
   "metadata": {
    "collapsed": false
   },
   "outputs": [
    {
     "data": {
      "image/png": "[encoded data removed]",
      "text/plain": [
       "<matplotlib.figure.Figure at 0x7f8d5c662668>"
      ]
     },
     "metadata": {},
     "output_type": "display_data"
    }
   ],
   "source": [
    "publicationsPerAuthor = {}\n",
    "\n",
    "# create a list of publications per author to plot histogram\n",
    "for author in authorPublications.keys():\n",
    "    count = authorPublications.get(author)\n",
    "    if publicationsPerAuthor.get(count) is None:\n",
    "        publicationsPerAuthor[count] = 1\n",
    "    else:\n",
    "        publicationsPerAuthor[count] = publicationsPerAuthor.get(count)+1\n",
    "\n",
    "xvalues = np.array(list(publicationsPerAuthor.keys()))\n",
    "yvalues = np.array(list(publicationsPerAuthor.values()))\n",
    "\n",
    "logValues=[log(value,10)for value in yvalues]\n",
    "xaxis=np.arange(len(xvalues))\n",
    "plt.bar(xaxis,logValues,1,color=\"b\")\n",
    "plt.ylabel('No. of Authors')\n",
    "plt.xlabel('No. of Publications')\n",
    "plt.title('Publications per author')\n",
    "plt.show()"
   ]
  },
  {
   "cell_type": "code",
   "execution_count": 11,
   "metadata": {
    "collapsed": false
   },
   "outputs": [
    {
     "name": "stdout",
     "output_type": "stream",
     "text": [
      "The mean of publications per author : 3.29178560295\n",
      "The standard deviation of publications per author : 8.87188969104\n",
      "The variance of publications per author : 78.71042669\n",
      "First Quartile (Q1) / 25th Percentile :  1.0\n",
      "Second Quartile (Q2) / 50th Percentile / Median :  1.0\n",
      "Third Quartile (Q3) / 75th Percentile :  2.0\n"
     ]
    }
   ],
   "source": [
    "# calculate the required statistics\n",
    "weightedArray = getWeightedArray(xvalues, yvalues)\n",
    "\n",
    "mean = np.mean(weightedArray)\n",
    "std = np.std(weightedArray)\n",
    "quartile1 = np.percentile(weightedArray, 25)\n",
    "quartile2 = np.percentile(weightedArray, 50)\n",
    "quartile3 = np.percentile(weightedArray, 75)\n",
    "\n",
    "print(\"The mean of publications per author :\", mean)\n",
    "print(\"The standard deviation of publications per author :\", std)\n",
    "print(\"The variance of publications per author :\", std*std)\n",
    "print(\"First Quartile (Q1) / 25th Percentile : \", quartile1)\n",
    "print(\"Second Quartile (Q2) / 50th Percentile / Median : \", quartile2)\n",
    "print(\"Third Quartile (Q3) / 75th Percentile : \", quartile3)"
   ]
  },
  {
   "cell_type": "markdown",
   "metadata": {},
   "source": [
    "* In case of \"publications per author\", the mean (3.29) is greater than the median (1.0). This shows that the distribution is skewed to the right i.e saturated towards the left side and with a \"tail\" stretching towards the right. \n",
    "\n",
    "\n",
    "* Q1 is same as Q2 (median), this tells us that \"publications per author\" are closely packed in the first half of the distribution. i.e large number of publications have just 1 author.\n",
    "\n",
    "\n",
    "* The Interquartile Range(IQR) = Q1-Q3 = 1.0. i.e 50% of the data points lie between 1.0 and 2.0 and 75% of the data points between 0 and 2.0. This says thet the disrtibution very highly saturated towards the left.\n",
    "\n",
    "\n",
    "* The range is ~300 but the standard deviation is 8.87. This tells that large number of data points are present near the mean."
   ]
  },
  {
   "cell_type": "code",
   "execution_count": 15,
   "metadata": {
    "collapsed": false
   },
   "outputs": [],
   "source": [
    "publicationsPerVenue = {}\n",
    "maxPubVenue = \"\"\n",
    "maxCount = 0\n",
    "\n",
    "# create a list of publications per venue to plot histogram\n",
    "for venue in venuePublications.keys():\n",
    "    count = venuePublications.get(venue)\n",
    "    if count > maxCount:\n",
    "        maxCount = count;\n",
    "        maxPubVenue = venue\n",
    "        \n",
    "    if publicationsPerVenue.get(count) is None:\n",
    "        publicationsPerVenue[count] = 1\n",
    "    else:\n",
    "        publicationsPerVenue[count] = publicationsPerVenue.get(count)+1"
   ]
  },
  {
   "cell_type": "code",
   "execution_count": 16,
   "metadata": {
    "collapsed": false
   },
   "outputs": [
    {
     "data": {
      "image/png": "[encoded data removed]",
      "text/plain": [
       "<matplotlib.figure.Figure at 0x7f8d5a3b8f60>"
      ]
     },
     "metadata": {},
     "output_type": "display_data"
    }
   ],
   "source": [
    "yvalues = np.array(list(publicationsPerVenue.values()))\n",
    "xvalues = np.array(list(publicationsPerVenue.keys()))\n",
    "\n",
    "logValues=[log(value,10)for value in yvalues]\n",
    "xaxis=np.arange(len(xvalues))\n",
    "plt.bar(xaxis,logValues,1,color=\"b\")\n",
    "plt.ylabel('No. of Venues')\n",
    "plt.xlabel('No. of Publications')\n",
    "plt.title('Publications per venue') \n",
    "plt.show()"
   ]
  },
  {
   "cell_type": "code",
   "execution_count": 17,
   "metadata": {
    "collapsed": false
   },
   "outputs": [
    {
     "name": "stdout",
     "output_type": "stream",
     "text": [
      "The mean of publications per venue : 7.73096583687\n",
      "The standard deviation of publications per venue : 83.3809075408\n",
      "The variance of publications per venue : 6952.37574233\n",
      "First Quartile (Q1) / 25th Percentile :  1.0\n",
      "Second Quartile (Q2) / 50th Percentile / Median :  1.0\n",
      "Third Quartile (Q3) / 75th Percentile :  1.0\n"
     ]
    }
   ],
   "source": [
    "# calculate the required statistics\n",
    "weightedArray = getWeightedArray(xvalues, yvalues)\n",
    "\n",
    "mean = np.mean(weightedArray)\n",
    "std = np.std(weightedArray)\n",
    "quartile1 = np.percentile(weightedArray, 25)\n",
    "quartile2 = np.percentile(weightedArray, 50)\n",
    "quartile3 = np.percentile(weightedArray, 75)\n",
    "\n",
    "print(\"The mean of publications per venue :\", mean)\n",
    "print(\"The standard deviation of publications per venue :\", std)\n",
    "print(\"The variance of publications per venue :\", std*std)\n",
    "print(\"First Quartile (Q1) / 25th Percentile : \", quartile1)\n",
    "print(\"Second Quartile (Q2) / 50th Percentile / Median : \", quartile2)\n",
    "print(\"Third Quartile (Q3) / 75th Percentile : \", quartile3)"
   ]
  },
  {
   "cell_type": "code",
   "execution_count": 18,
   "metadata": {
    "collapsed": false
   },
   "outputs": [
    {
     "name": "stdout",
     "output_type": "stream",
     "text": [
      "The venue with largest no. of publications : IEEE Transactions on Information Theory\n",
      "Largest publication count at a single venue : 11227\n"
     ]
    }
   ],
   "source": [
    "print(\"The venue with largest no. of publications :\", maxPubVenue)\n",
    "print(\"Largest publication count at a single venue :\", maxCount)"
   ]
  }
 ],
 "metadata": {
  "kernelspec": {
   "display_name": "Python 3",
   "language": "python",
   "name": "python3"
  },
  "language_info": {
   "codemirror_mode": {
    "name": "ipython",
    "version": 3
   },
   "file_extension": ".py",
   "mimetype": "text/x-python",
   "name": "python",
   "nbconvert_exporter": "python",
   "pygments_lexer": "ipython3",
   "version": "3.5.2"
  }
 },
 "nbformat": 4,
 "nbformat_minor": 2
}
