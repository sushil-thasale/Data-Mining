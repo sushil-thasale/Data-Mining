{
 "cells": [
  {
   "cell_type": "code",
   "execution_count": 1,
   "metadata": {
    "collapsed": false
   },
   "outputs": [
    {
     "name": "stdout",
     "output_type": "stream",
     "text": [
      "No. of distinct authors:  1478733\n",
      "No. of distinct Venues:  255685\n",
      "No. of distinct Publications:  1976815\n",
      "No. of distinct Publication names:  1929486\n"
     ]
    }
   ],
   "source": [
    "filePath = \"arnetminer/AP_train.txt\"\n",
    "#filePath = \"sample-data\"\n",
    "file = open(filePath,'r')\n",
    "\n",
    "distinctAuthors=[]\n",
    "distinctVenues=[]\n",
    "distinctPublications=[]\n",
    "indexes=[] #indexes are unique and !=\"\"\n",
    "\n",
    "for line in file:\n",
    "    \n",
    "    # capture index\n",
    "    if line.startswith(\"#index\"):\n",
    "        index = line[6:].strip()\n",
    "        indexes.append(index)        \n",
    "            \n",
    "    # capture publication name        \n",
    "    if line.startswith(\"#*\"):\n",
    "        publication = line[2:].strip()\n",
    "        if publication != \"\":\n",
    "            distinctPublications.append(publication)\n",
    "            \n",
    "    # capture list of authors        \n",
    "    if line.startswith(\"#@\"):\n",
    "        authors = line[2:].strip().split(\";\")\n",
    "        for author in authors:\n",
    "            author = author.strip()\n",
    "            if author != \"\":\n",
    "                distinctAuthors.append(author)\n",
    "    \n",
    "    # capture venues\n",
    "    if line.startswith(\"#c\"):\n",
    "        venue = line[2:].strip()\n",
    "        if venue != \"\":\n",
    "            distinctVenues.append(venue)\n",
    "                            \n",
    "file.close()\n",
    "\n",
    "print(\"No. of distinct authors: \", len(set(distinctAuthors)))\n",
    "print(\"No. of distinct Venues: \", len(set(distinctVenues)))\n",
    "print(\"No. of distinct Publications: \", len(indexes))\n",
    "print(\"No. of distinct Publication names: \", len(set(distinctPublications)))"
   ]
  },
  {
   "cell_type": "markdown",
   "metadata": {},
   "source": [
    "As per my understanding of the dataset, these values seem incorrect. \n",
    "\n",
    "The distinct venue count could be incorrect because, the same venues are repeated with different names. For example, the venue associated with the conference \"Principles and Practice of Knowledge Discovery in Databases\" have been repeated multiple times under different names.\n",
    "\n",
    "No. of distinct Publications are 1929486. Whereas, No. of distinct indexes are 1976815. This proves that some of the Publlication names are missing and are equal to \"\".\n",
    "\n",
    "Similarily, the distinct authors count could be incorrect because, the same author have been reported under different names. For example, the author \"Jorge Jesus Gomez-Sanz\" have been reported as \"Jorge J. Gomez-Sanz\", \"Jorge Gomez-Sanz\". Also, another author \"Henryk Jan Komorowski\" have been reported under \"H. Jan Komorowski\", \"Jan Komorowski\", \"Henryk J. Komorowski\"."
   ]
  }
 ],
 "metadata": {
  "kernelspec": {
   "display_name": "Python 3",
   "language": "python",
   "name": "python3"
  },
  "language_info": {
   "codemirror_mode": {
    "name": "ipython",
    "version": 3
   },
   "file_extension": ".py",
   "mimetype": "text/x-python",
   "name": "python",
   "nbconvert_exporter": "python",
   "pygments_lexer": "ipython3",
   "version": "3.5.2"
  }
 },
 "nbformat": 4,
 "nbformat_minor": 2
}
